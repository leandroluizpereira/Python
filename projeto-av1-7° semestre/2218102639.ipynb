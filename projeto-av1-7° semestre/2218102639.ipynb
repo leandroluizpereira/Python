{
  "nbformat": 4,
  "nbformat_minor": 0,
  "metadata": {
    "colab": {
      "name": "2218102639.ipynb",
      "provenance": [],
      "collapsed_sections": [
        "5opKf3Jtlhsk",
        "nq1h9GMtpv3z"
      ],
      "toc_visible": true
    },
    "kernelspec": {
      "display_name": "Python 3",
      "name": "python3"
    }
  },
  "cells": [
    {
      "cell_type": "markdown",
      "metadata": {
        "id": "dAwfDzxRdXrC"
      },
      "source": [
        "# Trabalho - AV1\n",
        "\n",
        "\n",
        "*   data de entrega : 28/maio/2021\n",
        "*   Prof. Edson Melo de Souza\n",
        "\n"
      ]
    },
    {
      "cell_type": "code",
      "metadata": {
        "id": "5yB3eIq7ddkX"
      },
      "source": [
        "#importaçôes \n",
        "import pandas as pd\n",
        "from scipy import stats\n",
        "import matplotlib\n",
        "import matplotlib.pyplot as plt\n",
        "\n",
        "plt.style.use('fivethirtyeight')\n",
        "plt.rcParams['axes.labelsize'] = 10\n",
        "plt.rcParams['axes.titlesize'] = 16\n",
        "plt.rcParams['xtick.labelsize'] = 10\n",
        "plt.rcParams['ytick.labelsize'] = 10\n",
        "plt.rcParams['legend.fontsize'] = 10\n",
        "dados = \"https://www.edsonmelo.com.br/dados_csv/ocorrencias_cenipa.csv\"\n",
        "df = pd.read_csv(dados, sep=';', encoding='latin-1')"
      ],
      "execution_count": 1,
      "outputs": []
    },
    {
      "cell_type": "code",
      "metadata": {
        "id": "oWQYzHKadmNj"
      },
      "source": [
        "#1. Liste as ocorrencias por estado.\n",
        "df['estado'].value_counts()"
      ],
      "execution_count": null,
      "outputs": []
    },
    {
      "cell_type": "code",
      "metadata": {
        "id": "S6LIzgQqdoBr"
      },
      "source": [
        "#2. Quais sao as quantidades de ocorrencias que envolvem: PISTAO, JATO, INDETERMINADO, TURBOELICE E TURBOEIXO?\n",
        "df['motor_tipo'].value_counts()"
      ],
      "execution_count": null,
      "outputs": []
    },
    {
      "cell_type": "code",
      "metadata": {
        "id": "AEeM7xOzdqCb"
      },
      "source": [
        "#3. Quantos paıses fabricam aeronaves? \n",
        "df['aeronave_pais_fabricante'].unique()\n",
        "df['aeronave_pais_fabricante'].value_counts()\n",
        "df_aeronave_pais_fabricante = df['aeronave_pais_fabricante'].value_counts()\n",
        "df_aeronave_pais_fabricante\n",
        "\n",
        "df_aeronave_pais_fabricante.to_csv('df_aeronave_pais_fabricante')"
      ],
      "execution_count": null,
      "outputs": []
    },
    {
      "cell_type": "code",
      "metadata": {
        "id": "rCckzhRIdtR6"
      },
      "source": [
        "#4. Mostre graficamente:\n",
        "#(a) Os paıses fabricantes de aeronaves.\n",
        "\n",
        "plt.figure(1, figsize=(8, 6))\n",
        "\n",
        "plt.title('Paıses fabricantes de aeronaves', fontsize=20)\n",
        "plt.xlabel('Paises')\n",
        "plt.ylabel('quantidade de aeronaves')\n",
        "\n",
        "df_aeronave_pais_fabricante.plot.bar() \n",
        "plt.show()\n",
        "df_dano = df['aeronave_nivel_dano'].value_counts()\n",
        "df_dano\n",
        "\n",
        "df_dano.to_csv('df_aeronave_nivel_dano')\n",
        "#(b) O nıvel de dano das aeronaves.\n",
        "plt.figure(1, figsize=(8, 6))\n",
        "\n",
        "\n",
        "plt.title('nıvel de dano das aeronaves', fontsize=15)\n",
        "\n",
        "df_dano.plot.bar() \n",
        "plt.show()"
      ],
      "execution_count": null,
      "outputs": []
    },
    {
      "cell_type": "code",
      "metadata": {
        "id": "9r3KxkI6dwzz"
      },
      "source": [
        "# essa é pra escrever com as suas palavras\n",
        "\n",
        "#5. O que voce pode inferir sobre os resultados da questao (4)?\n",
        "existe mais aeronaves com nenhum dano e leve do q totalmente destruida"
      ],
      "execution_count": null,
      "outputs": []
    },
    {
      "cell_type": "code",
      "metadata": {
        "id": "V__kn-aPdzwo"
      },
      "source": [
        "#6. Quantas cidades estao duplicadas?\n",
        "df['cidade'].nunique()"
      ],
      "execution_count": null,
      "outputs": []
    },
    {
      "cell_type": "code",
      "metadata": {
        "id": "R3zTg5HNd1lH"
      },
      "source": [
        "#7. Mostre as cinco cidades que tiveram mais destruicao de aeronaves.\n",
        "df['cidade'].value_counts().head(5)"
      ],
      "execution_count": null,
      "outputs": []
    },
    {
      "cell_type": "code",
      "metadata": {
        "id": "-crNMvxqd2-Z"
      },
      "source": [
        "#8. Filtre as cidades unicas e salve o resultado em um arquivo “CSV” denominado df cidades unicas.csv (ATEN ¸CAO: o DataFrame nao pode ser alterado, pois, ser´a ˜utilizado posteriormente).\n",
        "df['cidade'].unique()\n",
        "df.to_csv (\"tabela.csv\")\n",
        "df_cidades_unicas = pd.read_csv('/content/tabela.csv', names= ['cidade'])\n",
        "df_cidades_unicas\n",
        "df_cidades_unicas.to_csv('df_cidades_unicas.csv')"
      ],
      "execution_count": null,
      "outputs": []
    },
    {
      "cell_type": "code",
      "metadata": {
        "id": "vjexmhqgd-YQ"
      },
      "source": [
        "#9. Abra o arquivo salvo e mostre o total de observations.\n",
        " pd.read_csv('/content/df_cidades_unicas.csv')\n",
        " df_reduzido = pd.read_csv('/content/tabela.csv', names= ['cidade','estado','ano','aeronave_nivel_dano'])\n",
        "df_reduzido"
      ],
      "execution_count": null,
      "outputs": []
    },
    {
      "cell_type": "code",
      "metadata": {
        "id": "Wy7XdCLBd_pZ"
      },
      "source": [
        "#10. Crie um subset e salve em um arquivo “Excel” com o nome: df reduzido.xlsx com as seguintes variables:\n",
        "df_reduzido.to_csv('df_reduzido.xlsx')"
      ],
      "execution_count": null,
      "outputs": []
    },
    {
      "cell_type": "markdown",
      "metadata": {
        "id": "k4limuj9dbbJ"
      },
      "source": [
        ""
      ]
    },
    {
      "cell_type": "markdown",
      "metadata": {
        "id": "5opKf3Jtlhsk"
      },
      "source": [
        "# 2.1 Lógica Proposicional\n",
        "\n",
        "\n",
        "\n",
        "---\n",
        "\n"
      ]
    },
    {
      "cell_type": "markdown",
      "metadata": {
        "id": "1ejr75C4mucK"
      },
      "source": [
        "**1.** Analise a tabela abaixo e indique qual sentença corresponde a coluna “Sentença”.<br>\n",
        "<br>(a) (p → r) ∧ (q → r)¬q ↔ q<br>\n",
        "(b) (r ↔ p) ∨ (r → q)¬p ↔ r<br>\n",
        "(c) (p → q) ∨ (q ↔ r)¬q → r<br>\n",
        "(d) (p¬r) ∨ (q ∨ r) ∨ q ↔ p<br>\n",
        "(e) (r¬¬q)¬(p ∨ q) ∨ r ↔ p<br>\n",
        "<br>\n",
        "\n",
        "<strong>*RESPOSTA:*</strong>\n",
        "alternativa c <br>\n",
        "<strong>Observaçâo:</strong> ainda fiquei um pouco  confuso sobre a lógica proposicional , pelo que entende:\n",
        "  ∧ = and \n",
        "  ¬ = negaçâo !=\n",
        "\n",
        "2. Utilizando o Python, desenvolva um programa que receba dois valores e monte a tabela verdade para cada um dos casos. Utilize “listas”, “repetiçãoes” e “operadores” para resolver:\n",
        "\n",
        "\n",
        "\n",
        "\n",
        "\n",
        "\n",
        "\n",
        "\n",
        "\n",
        "\n",
        "\n",
        "\n",
        "\n",
        "\n"
      ]
    },
    {
      "cell_type": "code",
      "metadata": {
        "id": "MzU0l8iypb17"
      },
      "source": [
        "p = int(input('Digite um valor:'))\n",
        "q = int(input('Digite outro valor:'))\n",
        "\n",
        "print('p¬q')\n",
        "if (p!=q):\n",
        "   print('valore são diferentes')\n",
        "else :\n",
        "  print('Valores são iguais')\n",
        "\n",
        "print('p ↔ q')\n",
        "\n",
        "if (p==q and q==p):\n",
        "  print('As dus preposiçôes são verdadeiro')\n",
        "else :\n",
        "  print('As dus preposiçôes são falsa')\n",
        "\n",
        "print('(p → q) ∧ ¬q')\n",
        "\n",
        "if (if (p!=q) and !=q):\n",
        "  print('valore são diferentes')\n",
        "else : \n",
        "  print('Valores são iguais')\n"
      ],
      "execution_count": null,
      "outputs": []
    },
    {
      "cell_type": "markdown",
      "metadata": {
        "id": "nq1h9GMtpv3z"
      },
      "source": [
        "# 2.2 Desenvolvimento em Python\n",
        "\n",
        "\n",
        "---\n",
        "\n"
      ]
    },
    {
      "cell_type": "code",
      "metadata": {
        "id": "L3C3nR-7qsPD"
      },
      "source": [
        "#1.Solicite dois números e imprima seus valores.\n",
        "a = 20\n",
        "b = 10\n",
        "print('O valor a:',a,'e valor b:',b)"
      ],
      "execution_count": null,
      "outputs": []
    },
    {
      "cell_type": "code",
      "metadata": {
        "id": "Lu1fQ_Kpx3tS"
      },
      "source": [
        "#2.Mostre qualquer número digitado como sendo positivo\n",
        "print('Digite um número inteiro positivo :')\n",
        "n=int(input())\n",
        "\n",
        "if (n < 0):\n",
        "   n = n * -1\n",
        "print('\\nO número digitado é',n)\n",
        "\n"
      ],
      "execution_count": null,
      "outputs": []
    },
    {
      "cell_type": "code",
      "metadata": {
        "id": "A7HRUWFUyZfb"
      },
      "source": [
        "#3.Leia três números e mostre a média entre eles.\n",
        "\n",
        "print('Digite o primeiro número:')\n",
        "n1=int(input())\n",
        "print('Digite o segundo número:')\n",
        "n2=int(input())\n",
        "print('Digite o terceiro número:')\n",
        "n3=int(input())\n",
        "media = (n1+n2+n3)/3\n",
        "print(media)"
      ],
      "execution_count": null,
      "outputs": []
    },
    {
      "cell_type": "code",
      "metadata": {
        "id": "4RxX5kS956Kq"
      },
      "source": [
        "#4 Leia cinco números e mostre a potencia  2 e 3 de cada um deles.\n",
        "\n",
        "print('Digite o valor 1:')\n",
        "n1=int(input())\n",
        "print('Digite o valor 2:')\n",
        "n2=int(input())\n",
        "print('Digite o valor 3:')\n",
        "n3=int(input())\n",
        "print('Digite o valor 4:')\n",
        "n4=int(input())\n",
        "print('Digite o valor 5:')\n",
        "n5=int(input())\n",
        "\n",
        "print('\\nOs 5 números digitado elevado a X² são:\\n')\n",
        "p1 = pow(n1,2)\n",
        "p2 = pow(n2,2)\n",
        "p3 = pow(n3,2)\n",
        "p4 = pow(n4,2)\n",
        "p5 = pow(n5,2)\n",
        "print('',n1,'² =',p1,'\\n',n2,'² =',p2,'\\n',n3,'² =',p3,'\\n',n4,'² =',p4,'\\n',n5,'² =',p5,)\n",
        "\n",
        "print('\\nOs 5 números digitado elevado a x³ são :\\n')\n",
        "p1 = pow(n1,3)\n",
        "p2 = pow(n2,3)\n",
        "p3 = pow(n3,3)\n",
        "p4 = pow(n4,3)\n",
        "p5 = pow(n5,3)\n",
        "print('',n1,'³ =',p1,'\\n',n2,'³ =',p2,'\\n',n3,'³ =',p3,'\\n',n4,'³ =',p4,'\\n',n5,'³ =',p5,)"
      ],
      "execution_count": null,
      "outputs": []
    },
    {
      "cell_type": "code",
      "metadata": {
        "colab": {
          "base_uri": "https://localhost:8080/"
        },
        "id": "PfDWP4gAA2Q7",
        "outputId": "029cdb84-63d4-420e-dd72-533ed6f13204"
      },
      "source": [
        "#5 Verifique se uma letra digitada e vogal ou consoante.\n",
        "\n",
        "print('Digite uma vogal ou uma consoante')\n",
        "letra=str(input())\n",
        "\n",
        "if (letra == 'a'):\n",
        "  print('é vogal')\n",
        "elif (letra == 'e'):\n",
        "  print('é vogal')\n",
        "elif (letra == 'i'):\n",
        "  print('é vogal')\n",
        "elif (letra == 'o'):\n",
        "  print('é vogal')\n",
        "elif (letra == 'u'):\n",
        "  print('é vogal')\n",
        "else:\n",
        "    print('é consoante')"
      ],
      "execution_count": null,
      "outputs": [
        {
          "output_type": "stream",
          "text": [
            "Digite uma vogal ou uma consoante\n",
            "a\n",
            "é vogal\n"
          ],
          "name": "stdout"
        }
      ]
    },
    {
      "cell_type": "code",
      "metadata": {
        "id": "VcJXvYEyR1u6"
      },
      "source": [
        ""
      ],
      "execution_count": null,
      "outputs": []
    },
    {
      "cell_type": "code",
      "metadata": {
        "id": "yB9Masx6EVjY"
      },
      "source": [
        "#6. Leia tres numeros e mostre o maior deles.\n",
        "print('Digite o primeiro valor:')\n",
        "n1=int(input())\n",
        "print('Digite o segundo valor:')\n",
        "n2=int(input())\n",
        "print('Digite o terceiro valor:')\n",
        "n3=int(input())\n",
        "if (n1>n2>n3):\n",
        "  print('\\nO número maior entre ',n1,',',n2,',',n3,'\\n')\n",
        "  print('É número:',n1)\n",
        "elif (n2>n3):\n",
        "  print('\\nO número maior entre ',n1,',',n2,',',n3,'\\n')\n",
        "  print('É número:',n2)\n",
        "else:\n",
        "  print('\\nO número maior entre ',n1,',',n2,',',n3,'\\n')\n",
        "  print('É número:',n3)"
      ],
      "execution_count": null,
      "outputs": []
    },
    {
      "cell_type": "code",
      "metadata": {
        "id": "PlbqKxL-Hvnw"
      },
      "source": [
        "#7.Leia três números e mostre-os em ordem decrescente.\n",
        "a = int(input('Digite um número'))\n",
        "b = int(input('Digite um número'))\n",
        "c = int(input('Digite um número'))\n",
        "\n",
        "if (a < b and c ):\n",
        "  print(c,b,a)\n",
        "elif (a > b and c):\n",
        "  print(a,b,c)\n",
        "\n"
      ],
      "execution_count": null,
      "outputs": []
    },
    {
      "cell_type": "code",
      "metadata": {
        "id": "5ixY0z9IkSIi"
      },
      "source": [
        "#8. Leia tres numeros e mostre o maior e o menor deles.\n",
        "\n",
        "a=int(input('Digite o valor a:'))\n",
        "b=int(input('Digite o valor b:'))\n",
        "c=int(input('Digite o valor c:'))\n",
        "\n",
        "print('\\nValores digitados são \\na:',a,'b:',b,'c:',c)\n",
        "\n",
        "if (a <b and a< c):\n",
        "  print('\\no menor número é a: ',a,'')\n",
        "elif (b<c and b<a):\n",
        "  print('\\no menor número é b: ',b,'')\n",
        "elif (c<a and c<b):\n",
        "  print('\\no menor número é c: ',c,'')\n",
        "if (a > b and a >c):\n",
        "  print('\\nO maior número é a: ',a,'')\n",
        "elif (b > c and b >a):\n",
        "  print('\\nO maior número é b: ',b,'')\n",
        "elif (c > a and c >b):\n",
        "  print('\\nO maior número é c:',c,'')"
      ],
      "execution_count": null,
      "outputs": []
    },
    {
      "cell_type": "code",
      "metadata": {
        "id": "36AY16DDkZxR"
      },
      "source": [
        "#9.Faça um código que pergunte o preço de três produtos e informe qual produto voce deve comprar, sabendo que a decisãao e sempre pelo mais barato.\n",
        "\n",
        "a=float(input('Qual é o preço do primeiro produto ? '))\n",
        "b=float(input('Qual é o preço do primeiro produto ?'))\n",
        "c=float(input('Qual é o preço do primeiro produto ?'))\n",
        "\n",
        "print('\\nvalores: \\n\\nLeite R$:',a,'\\nRefrigerante R$:',b,'\\nVinho R$:',c)\n",
        "\n",
        "if (a == b and a ==c):\n",
        "  print('\\nOs três valores são iguais!')\n",
        "elif (a <= b and a<= c):\n",
        "  print('\\nA opção mais barato é Leite R$:',a,'')\n",
        "  if (a==b):\n",
        "    print('e refrigerante R$:',b,'')\n",
        "  elif (a==c):\n",
        "    print('e vinho R$:',c,'')\n",
        "\n",
        "\n",
        "elif (b<=c and b<=a):\n",
        "  print('\\nA opção  mais barato é refrigerante R$:',b,'')\n",
        "  if (b==c):\n",
        "    print('e vinho R$:',c,'')\n",
        "  elif (b==a):\n",
        "      print('e vinho R$:',c,'')\n",
        "elif (c<=a and c<=b):\n",
        "  print('\\nA opção mais barato é vinho R$:',c,'')\n",
        "  if (c==a):\n",
        "    print('e  R$:',a,'')\n",
        "  elif (c==b):\n",
        "      print('e refrigerante R$:',b,'')\n"
      ],
      "execution_count": null,
      "outputs": []
    },
    {
      "cell_type": "code",
      "metadata": {
        "id": "HI09bIDSkfOa"
      },
      "source": [
        "#10.Leia cinco números na seguinte ordem: float, int, int, string, float, e mostre o tipo de cada um deles.\n",
        "\n",
        "flutuante = float(input('Digite um número float: '))\n",
        "inteiro = int(input('Digite um número inteiro: '))\n",
        "inteiro2 = int(input('Digite um número inteiro: '))\n",
        "frase = input('Digite uma frase String')\n",
        "flutuante2 = float(input('Digite um número float: '))\n",
        "\n",
        "print(type(flutuante))\n",
        "print(type(inteiro))\n",
        "print(type(inteiro2))\n",
        "print(type(frase))\n",
        "print(type(flutuante2))"
      ],
      "execution_count": null,
      "outputs": []
    },
    {
      "cell_type": "code",
      "metadata": {
        "colab": {
          "base_uri": "https://localhost:8080/"
        },
        "id": "UPB9dvK2kh3J",
        "outputId": "62a4fe28-172f-403b-ba88-9ed99a6a3b79"
      },
      "source": [
        "#11.Uma pessoa foi ao supermercado e comprou diversos produtos. \n",
        "#Como era estudante de Ciências da Computação, desenvolveu um programa \n",
        "#que fizesse os calculos automaticamente dos produtos comprados. \n",
        "#A seguir, e mostrada a lista dos produtos comprados.\n",
        "# Usando o conceito de variaveis e outros aprendidos ate o momento, \n",
        "#mostre os valores totais por: produto, acumulado e o total gasto na compra.\n",
        "\n",
        "azeitona = 9.45 \n",
        "acucar = 2.12 \n",
        "farinha = 4.67 \n",
        "fermento = 1.88 \n",
        "vinagre = 5.56\n",
        "qtdAze =3\n",
        "qtdAcu = 10\n",
        "qtdFari =2\n",
        "qtdFerm = 4\n",
        "qtdVina = 2\n",
        "\n",
        "desconto = int(input('Digite o desconto : '))\n",
        "\n",
        "#Cálculos azeitona \n",
        "desAz = azeitona /100 * desconto #desconto\n",
        "decAz = format(\"%.2f\"%desAz) #deixando desconto decimal \n",
        "azeTot =  azeitona - desAz  # total \n",
        "azedTot = format(\"%.2f\"%azeTot) # deixando total decimal \n",
        "azeAc  = azeTot * qtdAze # acumulado\n",
        "azeDeAc = format(\"%.2f\"%azeAc) # deixando acumulado decimal\n",
        "\n",
        "\n",
        "#Cálculos açúcar \n",
        "desAc = acucar / 100 * desconto #desconto\n",
        "decAc = format(\"%.2f\"%desAc) # deixando desconto decimal \n",
        "acTot = acucar - desAc # total \n",
        "acdtot = format(\"%.2f\"%acTot) #deixando total  decimal\n",
        "acuAc  = acTot * qtdAcu # acumulado\n",
        "acuDeAc = format(\"%.2f\"%acuAc) # deixando acumulado decimal\n",
        "\n",
        "#Cálculo Farinha \n",
        "desFa = farinha / 100 * desconto #desconto\n",
        "decFa = format(\"%.2f\"%desFa) # deixando desconto decimal \n",
        "faTot = farinha - desFa # total \n",
        "fadtot = format(\"%.2f\"%faTot) #deixando total  decimal\n",
        "faAc  = faTot * qtdFari # acumulado\n",
        "faDeAc = format(\"%.2f\"%faAc) # deixando acumulado decimal\n",
        "\n",
        "#Cálculo Fermento \n",
        "desFe = fermento / 100 * desconto #desconto\n",
        "decFe = format(\"%.2f\"%desFe) # deixando desconto decimal \n",
        "feTot = fermento - desFe # total \n",
        "fedtot = format(\"%.2f\"%feTot) #deixando total  decimal\n",
        "feAc  = feTot * qtdFerm # acumulado\n",
        "feDeAc = format(\"%.2f\"%feAc) # deixando acumulado decimal\n",
        "\n",
        "\n",
        "#Cálculo Vinagre\n",
        "desVi = vinagre / 100 * desconto #desconto\n",
        "decVi = format(\"%.2f\"%desVi) # deixando desconto decimal \n",
        "viTot = vinagre - desVi # total \n",
        "vidtot = format(\"%.2f\"%viTot) #deixando total  decimal\n",
        "viAc  = viTot * qtdVina # acumulado\n",
        "viDeAc = format(\"%.2f\"%viAc) # deixando acumulado decimal\n",
        "\n",
        "\n",
        "if (qtdAcu >10 ):\n",
        "   desAc=2.12 /100 * 3\n",
        "   decAc = format(\"%.2f\"%desAc) # deixando decimal \n",
        "   acTot = acucar - desAc # total \n",
        "   acdtot = format(\"%.2f\"%acTot) #deixando decimal\n",
        "   acuAc  = acTot * qtdAcu # acumulado\n",
        "   acuDeAc = format(\"%.2f\"%acuAc) # deixando acumulado decimal  \n",
        "   \n",
        "if (qtdVina >=2):\n",
        "   desVi = 5.56 /100 * 10\n",
        "   decVi = format(\"%.2f\"%desVi) # deixando desconto decimal \n",
        "   viTot = vinagre - desVi # total \n",
        "   vidtot = format(\"%.2f\"%viTot) #deixando total  decimal  \n",
        "   viAc  = viTot * qtdVina # acumulado\n",
        "   viDeAc = format(\"%.2f\"%viAc) # deixando acumulado decimal   \n",
        "\n",
        "#Total Geral \n",
        "totGeral = float(azeDeAc) + float(acuDeAc) + float(feDeAc) + float(faDeAc) + float(viDeAc) + float(viDeAc)\n",
        "\n",
        "##totGeral = [azeDeAc,acuDeAc,feDeAc,faDeAc,viDeAc,viDeAc]\n",
        "#totSumGeral = sum(totGeral)\n",
        "totDeGeral = format(\"%.2f\"%totGeral) # deixando acumulado decimal\n",
        "\n",
        "\n",
        "print('=========================================================================')\n",
        "print('| Produto  | Valor | Quantidade | Desconto |  Total   | Total Acumulado |')\n",
        "print('| Azeitona |R$:9,45|     3      | R$:',decAz,'| R$:',azedTot,'|   R$:',azeDeAc,'    | ')\n",
        "print('|  Açucar  |R$:2,12|     10     | R$:',decAc,'| R$:',acdtot,'|   R$:',acuDeAc,'    | ') \n",
        "print('| Farinha  |R$:4,64|     2      | R$:',decFa,'| R$:',fadtot,'|   R$:',faDeAc,'     | ') \n",
        "print('| Fermento |R$:1,88|     4      | R$:',decFe,'| R$:',fedtot,'|   R$:',feDeAc,'     | ') \n",
        "print('| Vinagre  |R$:5,56|     2      | R$:',decVi,'| R$:',vidtot,'|   R$:',viDeAc,'    | ') \n",
        "print('|Total geral:                                         |   R$:',totDeGeral,'    | ') \n",
        "print('=========================================================================')\n",
        "  \n",
        "# observação a soluçâo decimal eu vi pela internet o método format(%.2f) para solucionar \n",
        "      "
      ],
      "execution_count": null,
      "outputs": [
        {
          "output_type": "stream",
          "text": [
            "Digite o desconto : 25\n",
            "=========================================================================\n",
            "| Produto  | Valor | Quantidade | Desconto |  Total   | Total Acumulado |\n",
            "| Azeitona |R$:9,45|     3      | R$: 2.36 | R$: 7.09 |   R$: 21.26     | \n",
            "|  Açucar  |R$:2,12|     10     | R$: 0.53 | R$: 1.59 |   R$: 15.90     | \n",
            "| Farinha  |R$:4,64|     2      | R$: 1.17 | R$: 3.50 |   R$: 7.00      | \n",
            "| Fermento |R$:1,88|     4      | R$: 0.47 | R$: 1.41 |   R$: 5.64      | \n",
            "| Vinagre  |R$:5,56|     2      | R$: 0.56 | R$: 5.00 |   R$: 10.01     | \n",
            "|Total geral:                                         |   R$: 69.82     | \n",
            "=========================================================================\n"
          ],
          "name": "stdout"
        }
      ]
    },
    {
      "cell_type": "code",
      "metadata": {
        "id": "n7jmycX7d1ZB"
      },
      "source": [
        "#Atividade plus da aula anterior: O usuario escolha a tabuada para aparecer na tela\n",
        "\n",
        "print(\"Digite a tabuada que deseja visualizar:\")\n",
        "n=int(input())\n",
        "print('\\n'' a  Tabuada do',n,'\\n')\n",
        "for i in range(0,11):\n",
        "  res = n * i;\n",
        "  print('     ',n,'X',i,'=',res,'')\n"
      ],
      "execution_count": null,
      "outputs": []
    },
    {
      "cell_type": "code",
      "metadata": {
        "id": "fX2Rlv0BhbeR"
      },
      "source": [
        "#Atividade plus da aula anterior: Mostra a  tabuada de 1 a 10 \n",
        "print('\\n  mostrando a tabuada de 1 a 10:\\n')\n",
        "for k in range(0,11):\n",
        "  print('*======== Tabuada do',k,'========*\\n')\n",
        "  for i in range(0,11):\n",
        "    res = k*i;\n",
        "    print('          ',k,'X',i,'=',res,' ')\n",
        "  print('\\n')"
      ],
      "execution_count": null,
      "outputs": []
    },
    {
      "cell_type": "code",
      "metadata": {
        "id": "hc1Zw8gsJh34"
      },
      "source": [
        "  #Atividade plus aula anterior fazendo alguns exemplos de operadores lógicos\n",
        "  a = 30\n",
        "  b = 20 \n",
        "  x = 25\n",
        "  y = 23\n",
        "  if (a<b and x<y):\n",
        "    print('As duas expressôes são verdadeiro')\n",
        "  else:\n",
        "    print('As duas expressões são  falso')\n",
        "  #EXEMPLO OR\n",
        "  if (a<b or x>y):\n",
        "     print('Uma das expressão  são verdadeiro')\n",
        "  else:\n",
        "     print('As duas expressôes são falso')\n",
        "   #EXEMPLO NOT\n",
        "  if (a>b and  not x<y):\n",
        "    print('as duas expressâo são verdadeiro')\n",
        "  else:\n",
        "    print('as duas expresão são falso')"
      ],
      "execution_count": null,
      "outputs": []
    },
    {
      "cell_type": "code",
      "metadata": {
        "id": "-HcG4NNnnS2u"
      },
      "source": [
        "\n",
        "#Atividade plus : Exemplo de edentaçâo com if \n",
        "a=2\n",
        "if (a==2):\n",
        "  # Espaço tab para estar dentro do if a==2\n",
        "  print('a == 2 é verdadeiro')\n",
        "  a=3\n",
        "  if (a==3):\n",
        "    #Espaço tab para estar dentro da instrução if a==3\n",
        "    print(' a == 3 é verdadeiro')\n",
        "    a=4\n",
        "    b=3\n",
        "    #este if está dentro do if (a==3)\n",
        "    if (b == 3 and a == 4):\n",
        "      print('    b == 3 and a == 4 que está dentro do if a == 3 e verdadeiro')\n",
        "    else :\n",
        "      print('   o valor b == 3 and a == 4 é falso')\n",
        "  else:\n",
        "    print(' a == 3 é falso')\n",
        "  if (a==4):\n",
        "    # Espaço tab para estar dentro comando de decisão if a==4\n",
        "    print(' a == 4 é verdadeiro')\n",
        "  else :\n",
        "    print(' a == 4 é falso')\n",
        "else:\n",
        "  print(' O valor a == 2 é falso')\n",
        "\n"
      ],
      "execution_count": null,
      "outputs": []
    },
    {
      "cell_type": "code",
      "metadata": {
        "id": "bg5OP_8b4dwf"
      },
      "source": [
        "# if encadeado: \n",
        "print('Digite um número de 1 a 4')\n",
        "a = int(input())\n",
        "if (a == 2 ):\n",
        "  print('a == 2 verdadeiro')\n",
        "  a = 3\n",
        "elif (a == 3):\n",
        "  print('a == 3 verdadeiro')\n",
        "elif (a == 4):\n",
        "  print('a == 4 é verdadeiro')\n",
        "else :\n",
        "  print('a == 2 e a == 3 e a == 4 é falso')\n"
      ],
      "execution_count": null,
      "outputs": []
    },
    {
      "cell_type": "code",
      "metadata": {
        "id": "KCnr1wLb9Kd8"
      },
      "source": [
        "# valor de entrada de array e saida \n",
        "array = [2,4,3]\n",
        "\n",
        "for x in range(0,3,1):\n",
        "  array[x] = int(input('Digite um número: '))\n",
        "\n",
        "for x in array:\n",
        "  print(x)\n",
        "\n",
        "\n",
        "\n"
      ],
      "execution_count": null,
      "outputs": []
    },
    {
      "cell_type": "code",
      "metadata": {
        "id": "jvtJDG1SHry2"
      },
      "source": [
        "  frase = 'Leandro está estudando a linguagem python'  # String\n",
        "  ligarCpu = 'true'  # bool\n",
        "  a = 3.4  # float\n",
        "  x = 3\n",
        "  #para converter a variável \n",
        "  y = float(x) + float(a)\n",
        "  print(y)"
      ],
      "execution_count": null,
      "outputs": []
    },
    {
      "cell_type": "markdown",
      "metadata": {
        "id": "QoXAkqJAqitk"
      },
      "source": [
        "# Extrutura de dados \n",
        "\n",
        "\n"
      ]
    },
    {
      "cell_type": "code",
      "metadata": {
        "id": "kzOGaS8frOaU"
      },
      "source": [
        "aluno = [\"Leandro\",\"Ricardo\",\"Monica\",\"Fernanda\",\"Luiza\"]\n",
        "time=[\"Gremio\",\"São paulo\",\"Palmeiras\",\"Santos\",\"Corinhians\"]\n",
        "curso =[]\n",
        "notas =[0,1,2,3,4,5,6,7,8,9,10]\n",
        "#para imprimir os dados \n",
        "print(aluno[0])\n",
        "print(aluno[1])\n",
        "print(aluno[2])\n",
        "print(aluno[3])\n"
      ],
      "execution_count": null,
      "outputs": []
    },
    {
      "cell_type": "markdown",
      "metadata": {
        "id": "qHw4zH2trraw"
      },
      "source": [
        "# Dicionário"
      ]
    },
    {
      "cell_type": "code",
      "metadata": {
        "id": "FVzxHGuYrtsI"
      },
      "source": [
        "aluno = {\n",
        "  'ra':'123',\n",
        "  'nome': 'Leandro Luiz',\n",
        "  'idade':28,\n",
        "  'formacao':'Ciências da computaçâo'\n",
        "}\n",
        "print(aluno)\n"
      ],
      "execution_count": null,
      "outputs": []
    },
    {
      "cell_type": "code",
      "metadata": {
        "id": "nPvTWCdlslPz"
      },
      "source": [
        "# Acessando um valor pela chave (key)\n",
        "print('RA',aluno['ra'])\n",
        "print('Nome',aluno['nome'])"
      ],
      "execution_count": null,
      "outputs": []
    },
    {
      "cell_type": "code",
      "metadata": {
        "id": "UA1GObHWtBY4"
      },
      "source": [
        "# Podemos acessar um valor usando o get()\n",
        "print(aluno.get('nome'))"
      ],
      "execution_count": null,
      "outputs": []
    },
    {
      "cell_type": "code",
      "metadata": {
        "id": "cY25tRIWtsR4"
      },
      "source": [
        "#Acessando índice e valor de uma lista no mesmo comando - enumerate()\n",
        "notas =[8.5,7.2,8.0,9.5,4.5,5.5,9.0,9.7,10.0]\n",
        "for key, value in enumerate(notas):\n",
        "  print(key,value)"
      ],
      "execution_count": null,
      "outputs": []
    },
    {
      "cell_type": "code",
      "metadata": {
        "id": "3Q41fClJv0yi"
      },
      "source": [
        "# percorendo é sinónimo de um laço de repetiçâo) um dicionário\n",
        "#é mais usual dizer que vamos iterar um conjunto de dados ou iterate.\n",
        "chaves = aluno.keys() # pega todas as chaves do dicionário\n",
        "for chave in chaves:\n",
        "  print(chave, aluno.get(chave))\n"
      ],
      "execution_count": null,
      "outputs": []
    },
    {
      "cell_type": "code",
      "metadata": {
        "id": "-bDj6TWrxkFt"
      },
      "source": [
        "# Iterando no dicionário de forma direta\n",
        "for chave, valor in aluno.items():\n",
        "  print(chave,valor)\n"
      ],
      "execution_count": null,
      "outputs": []
    },
    {
      "cell_type": "code",
      "metadata": {
        "id": "HTMHA1dux7dx"
      },
      "source": [
        "# iterando por chaves\n",
        "for chave in alunos.keys():\n",
        "  print(chave,aluno.get('ra'))\n"
      ],
      "execution_count": null,
      "outputs": []
    },
    {
      "cell_type": "markdown",
      "metadata": {
        "id": "lKMi1Fkbzemx"
      },
      "source": [
        "# Operaçôes com dicionários\n",
        "* Inclusão \n",
        "* Remoçâo\n",
        "* Alteraçâo"
      ]
    },
    {
      "cell_type": "code",
      "metadata": {
        "id": "U0nDyMiFzD8L"
      },
      "source": [
        "# incluindo dados no dicionário\n",
        "# Primeira forma\n",
        "aluno = {\n",
        "  'id':'1',\n",
        "  'nome': 'Leandro Luiz',\n",
        "  'idade':28,\n",
        "  'formacao':'Ciências da computaçâo'\n",
        "}"
      ],
      "execution_count": null,
      "outputs": []
    },
    {
      "cell_type": "code",
      "metadata": {
        "colab": {
          "base_uri": "https://localhost:8080/"
        },
        "id": "jHE9J3QAz88I",
        "outputId": "f5b2270a-5d51-45d9-c9a0-b88b1589f0fc"
      },
      "source": [
        "# Inclusão dados no dicionário\n",
        "# Primeira forma\n",
        "aluno['AV1'] = 8.0\n",
        "print(aluno)"
      ],
      "execution_count": null,
      "outputs": [
        {
          "output_type": "stream",
          "text": [
            "{'id': '1', 'nome': 'Leandro Luiz', 'idade': 28, 'formacao': 'Ciências da computaçâo', 'AV1': 8}\n"
          ],
          "name": "stdout"
        }
      ]
    },
    {
      "cell_type": "code",
      "metadata": {
        "colab": {
          "base_uri": "https://localhost:8080/"
        },
        "id": "lkEWaXSX0Pco",
        "outputId": "52ecab97-5684-4053-969b-699daacf1759"
      },
      "source": [
        "# Inclusão dados no dicionário\n",
        "# Primeira forma - update()\n",
        "# Quando usa o update e  se o valor existir será atualizado, senão será criado\n",
        "aluno.update( {'AV2': 7.5} )\n",
        "print(aluno)"
      ],
      "execution_count": null,
      "outputs": [
        {
          "output_type": "stream",
          "text": [
            "{'id': '1', 'nome': 'Leandro Luiz', 'idade': 28, 'formacao': 'Ciências da computaçâo', 'AV1': 8, 'AV2': 7.5}\n"
          ],
          "name": "stdout"
        }
      ]
    },
    {
      "cell_type": "code",
      "metadata": {
        "colab": {
          "base_uri": "https://localhost:8080/"
        },
        "id": "so5Fz9Kj009g",
        "outputId": "15802321-4b98-420e-e298-e15d1bf72012"
      },
      "source": [
        "#Atualizar as notas AV1 para 6.0 e AV2 para 9.5\n",
        "\n",
        "aluno.update({'AV1':6.0, 'AV2':9.5})\n",
        "print(aluno)"
      ],
      "execution_count": null,
      "outputs": [
        {
          "output_type": "stream",
          "text": [
            "{'id': '1', 'nome': 'Leandro Luiz', 'idade': 28, 'formacao': 'Ciências da computaçâo', 'AV1': 6.0, 'AV2': 9.5}\n"
          ],
          "name": "stdout"
        }
      ]
    },
    {
      "cell_type": "code",
      "metadata": {
        "colab": {
          "base_uri": "https://localhost:8080/"
        },
        "id": "G-O5yjDY1eJQ",
        "outputId": "98afee4e-5cc0-412f-b200-e0f8d76f5817"
      },
      "source": [
        "# Treinando um pouco\n",
        "# criar um dicionário com as seguintes entradas:\n",
        "# id, nome,email\n",
        "# Motrar na saida apenas o valor da chave 'id'\n",
        "\n",
        "student = {\n",
        "    'id': 23,\n",
        "    'name': 'ciclano',\n",
        "    'email':'ciclano@gmail.com'\n",
        "}\n",
        "print(student.get('id'))"
      ],
      "execution_count": null,
      "outputs": [
        {
          "output_type": "stream",
          "text": [
            "23\n"
          ],
          "name": "stdout"
        }
      ]
    },
    {
      "cell_type": "code",
      "metadata": {
        "id": "hkt_ocRE3QNx"
      },
      "source": [
        "# Buscas em dicionário\n",
        "'AV1' in aluno"
      ],
      "execution_count": null,
      "outputs": []
    },
    {
      "cell_type": "code",
      "metadata": {
        "colab": {
          "base_uri": "https://localhost:8080/"
        },
        "id": "dGNsmBCU3X-Y",
        "outputId": "2592187d-8745-4bf7-b00a-c18a7eb35d9d"
      },
      "source": [
        "'AV3' not in aluno"
      ],
      "execution_count": null,
      "outputs": [
        {
          "output_type": "execute_result",
          "data": {
            "text/plain": [
              "True"
            ]
          },
          "metadata": {
            "tags": []
          },
          "execution_count": 27
        }
      ]
    },
    {
      "cell_type": "code",
      "metadata": {
        "id": "8fT1f5xZ3iij"
      },
      "source": [
        "# Integrando Dicionário com lista\n",
        "{\n",
        "    {'id':1,'name': 'Edson'},\n",
        "    \n",
        "}"
      ],
      "execution_count": null,
      "outputs": []
    },
    {
      "cell_type": "code",
      "metadata": {
        "colab": {
          "base_uri": "https://localhost:8080/"
        },
        "id": "EPH0O3vT6WDJ",
        "outputId": "788ac1cd-04d7-468e-f633-85b18714fb9f"
      },
      "source": [
        "#criando uma lista de dicionários\n",
        "alunos = [] # lista vazia\n",
        "alunos.append({'id':1,'name':'Leandro Luiz Pereira'})\n",
        "alunos.append({'id':2,'name':'Ciclano Pereira'})\n",
        "print(alunos)"
      ],
      "execution_count": null,
      "outputs": [
        {
          "output_type": "stream",
          "text": [
            "[{'id': 1, 'name': 'Leandro Luiz Pereira'}, {'id': 2, 'name': 'Ciclano Pereira'}]\n"
          ],
          "name": "stdout"
        }
      ]
    },
    {
      "cell_type": "code",
      "metadata": {
        "id": "zJB4qCXU7CDI"
      },
      "source": [
        "# Alterando os nossos alunos\n",
        "for entrada in alunos:\n",
        "  print(entrada) \n",
        "for entrada in alunos:\n",
        "  for key, value in entrada.items():\n",
        "    print(key,'=>',value)\n",
        "  print() \n"
      ],
      "execution_count": null,
      "outputs": []
    },
    {
      "cell_type": "code",
      "metadata": {
        "colab": {
          "base_uri": "https://localhost:8080/"
        },
        "id": "cvOeh3r38ssB",
        "outputId": "ed0d1e4c-6168-40ff-b01e-66a776134307"
      },
      "source": [
        " # Exemplo com get()\n",
        " for entrada in alunos:\n",
        "   for aluno in [entrada]:\n",
        "     print ('Ra:',aluno.get('RA'))\n",
        "   print()\n"
      ],
      "execution_count": null,
      "outputs": [
        {
          "output_type": "stream",
          "text": [
            "Ra: None\n",
            "\n",
            "Ra: None\n",
            "\n"
          ],
          "name": "stdout"
        }
      ]
    },
    {
      "cell_type": "code",
      "metadata": {
        "colab": {
          "base_uri": "https://localhost:8080/"
        },
        "id": "JgLyEnA2-2Vq",
        "outputId": "d6a0ea1b-9b65-4d14-e727-2712304ee00e"
      },
      "source": [
        "# treinando \n",
        "# Utilizandos os conceitos vistos nesta aula e na aula anterior;\n",
        "#crie um dicionario com 5 alunos que mostre:\n",
        "#maior nota\n",
        "#Menor nota\n",
        "#Media dos alunos \n",
        "\n",
        "student = []\n",
        "student.append({'name': 'Student 01','course': 'computer science','AV1':8 })\n",
        "student.append({'name': 'Student 02','course': 'computer science','AV1':7 })\n",
        "student.append({'name': 'Student 03','course': 'computer science','AV1':6 })\n",
        "student.append({'name': 'Student 03','course': 'computer science','AV1':6 })\n",
        "student.append({'name': 'Student 03','course': 'computer science','AV1':6 })\n",
        "\n",
        "\n",
        "for dictionary in student: # percorrer a lista\n",
        "  for student in [dictionary]: # percorre o dicionário\n",
        "    print(student.get('AV1')) \n",
        "\n",
        "\n"
      ],
      "execution_count": null,
      "outputs": [
        {
          "output_type": "stream",
          "text": [
            "8\n",
            "7\n",
            "6\n",
            "6\n",
            "6\n"
          ],
          "name": "stdout"
        }
      ]
    },
    {
      "cell_type": "code",
      "metadata": {
        "colab": {
          "base_uri": "https://localhost:8080/",
          "height": 238
        },
        "id": "ViPz0ptLlvzd",
        "outputId": "ddb2f2ed-2b52-4aae-efa4-d2e73bb673f8"
      },
      "source": [
        "#exercicios \n",
        "\n",
        "media = 0\n",
        "notas = []\n",
        "\n",
        "for entrada in alunos:\n",
        "  for aluno in entrada.keys():\n",
        "    if aluno =='AV1':\n",
        "      media += ntrada[nota]\n",
        "      notas = notas + [entrada[nota]]\n",
        "      print('Maior:', max(notas))\n",
        "      print('Menor:', max(notas))\n",
        "      print('Média:round(media/len(notas),2)')\n",
        "\n"
      ],
      "execution_count": null,
      "outputs": [
        {
          "output_type": "error",
          "ename": "NameError",
          "evalue": "ignored",
          "traceback": [
            "\u001b[0;31m---------------------------------------------------------------------------\u001b[0m",
            "\u001b[0;31mNameError\u001b[0m                                 Traceback (most recent call last)",
            "\u001b[0;32m<ipython-input-7-943b005aa951>\u001b[0m in \u001b[0;36m<module>\u001b[0;34m()\u001b[0m\n\u001b[1;32m      4\u001b[0m \u001b[0mnotas\u001b[0m \u001b[0;34m=\u001b[0m \u001b[0;34m[\u001b[0m\u001b[0;34m]\u001b[0m\u001b[0;34m\u001b[0m\u001b[0;34m\u001b[0m\u001b[0m\n\u001b[1;32m      5\u001b[0m \u001b[0;34m\u001b[0m\u001b[0m\n\u001b[0;32m----> 6\u001b[0;31m \u001b[0;32mfor\u001b[0m \u001b[0mentrada\u001b[0m \u001b[0;32min\u001b[0m \u001b[0malunos\u001b[0m\u001b[0;34m:\u001b[0m\u001b[0;34m\u001b[0m\u001b[0;34m\u001b[0m\u001b[0m\n\u001b[0m\u001b[1;32m      7\u001b[0m   \u001b[0;32mfor\u001b[0m \u001b[0maluno\u001b[0m \u001b[0;32min\u001b[0m \u001b[0mentrada\u001b[0m\u001b[0;34m.\u001b[0m\u001b[0mkeys\u001b[0m\u001b[0;34m(\u001b[0m\u001b[0;34m)\u001b[0m\u001b[0;34m:\u001b[0m\u001b[0;34m\u001b[0m\u001b[0;34m\u001b[0m\u001b[0m\n\u001b[1;32m      8\u001b[0m     \u001b[0;32mif\u001b[0m \u001b[0maluno\u001b[0m \u001b[0;34m==\u001b[0m\u001b[0;34m'AV1'\u001b[0m\u001b[0;34m:\u001b[0m\u001b[0;34m\u001b[0m\u001b[0;34m\u001b[0m\u001b[0m\n",
            "\u001b[0;31mNameError\u001b[0m: name 'alunos' is not defined"
          ]
        }
      ]
    },
    {
      "cell_type": "code",
      "metadata": {
        "id": "9-ABlax8pCPk"
      },
      "source": [
        ""
      ],
      "execution_count": null,
      "outputs": []
    },
    {
      "cell_type": "markdown",
      "metadata": {
        "id": "84jyPpDcpEMI"
      },
      "source": [
        "# Matrizes transposta"
      ]
    },
    {
      "cell_type": "code",
      "metadata": {
        "colab": {
          "base_uri": "https://localhost:8080/"
        },
        "id": "LAaiduVPpJNK",
        "outputId": "8727b0f0-e023-4b9f-ca71-f4ae8097c419"
      },
      "source": [
        "import numpy as np\n",
        "matriz_a = np.array([ [1.0, 2.0, 8.0, 6.0], [3.0, 4.0, 4.0, 2.0] ])\n",
        "matriz_b = np.array([ [5.0, 6.0, 9.0, 1.0], [7.0, 8.0, 3.0, 5.0] ])\n",
        "matriz_c = np.zeros((1, 4))\n",
        "\n",
        "matriz_resultante = np.concatenate( (matriz_a, matriz_b, matriz_c) )\n",
        "matriz_resultante"
      ],
      "execution_count": null,
      "outputs": [
        {
          "output_type": "execute_result",
          "data": {
            "text/plain": [
              "array([[1., 2., 8., 6.],\n",
              "       [3., 4., 4., 2.],\n",
              "       [5., 6., 9., 1.],\n",
              "       [7., 8., 3., 5.],\n",
              "       [0., 0., 0., 0.]])"
            ]
          },
          "metadata": {
            "tags": []
          },
          "execution_count": 10
        }
      ]
    },
    {
      "cell_type": "code",
      "metadata": {
        "colab": {
          "base_uri": "https://localhost:8080/"
        },
        "id": "XJNR61-TqEWL",
        "outputId": "9f4443df-a93c-4200-c456-a587cde9e379"
      },
      "source": [
        "# Como fazer a transposiçâo de uma matriz\n",
        "transposta = matriz_resultante.transpose()\n",
        "transposta\n"
      ],
      "execution_count": null,
      "outputs": [
        {
          "output_type": "execute_result",
          "data": {
            "text/plain": [
              "array([[1., 3., 5., 7., 0.],\n",
              "       [2., 4., 6., 8., 0.],\n",
              "       [8., 4., 9., 3., 0.],\n",
              "       [6., 2., 1., 5., 0.]])"
            ]
          },
          "metadata": {
            "tags": []
          },
          "execution_count": 15
        }
      ]
    },
    {
      "cell_type": "markdown",
      "metadata": {
        "id": "B5qIMbosox0a"
      },
      "source": [
        "# Estatistica de matrizes\n"
      ]
    },
    {
      "cell_type": "code",
      "metadata": {
        "id": "PdXozgKko2TQ"
      },
      "source": [
        "# Estatistica sobre matrizes \n",
        "\n",
        "print('Máximo:', transposta.max())\n",
        "print('Mínimo:',transposta.min())\n",
        "print('Soma:',transposta.sum())\n",
        "print('Média:',transposta.mean())\n",
        "# variancia é calcular a disperçâo de quao distantes estão os valores central\n",
        "print('Variância:',transposta.var())\n",
        "print('Desvio Padrão:',transposta.std()) #Standart Devviation\n",
        "# ptp a diferença entre o maior e menor valor da matriz \n",
        "print('Ptp:',transposta.ptp())\n",
        "\n"
      ],
      "execution_count": null,
      "outputs": []
    },
    {
      "cell_type": "code",
      "metadata": {
        "id": "Hg-dhl6ky1NZ"
      },
      "source": [
        "import numpy as np\n",
        "from scipy import linalg\n",
        "\n",
        "A = np.array([[8]])\n",
        "B = np.array([[4,2],[3,3]])\n",
        "C = np.array([[1,4,2],[1,3,3],[2,6,1]])\n",
        "\n"
      ],
      "execution_count": null,
      "outputs": []
    },
    {
      "cell_type": "code",
      "metadata": {
        "id": "FLzuvpe_0po4"
      },
      "source": [
        "# Calculando os determinantes\n",
        "print('Deteminante de A\\n', A)\n",
        "print('Determinante de A\\n',round(np.linalg.det(A),2))\n",
        "print('Matriz B\\n', B)\n",
        "print('Determinante de B\\n',round(np.linalg.det(B),2))\n",
        "print('Matriz C\\n', C)\n",
        "print('Determinante de C\\n',round(np.linalg.det(C),2))"
      ],
      "execution_count": null,
      "outputs": []
    },
    {
      "cell_type": "code",
      "metadata": {
        "id": "CE7MWTc41Ze6"
      },
      "source": [
        "1 # A biblioteca scipy tem um conjunto de ferramentas para matemática cientifica\n",
        "import numpy as np\n",
        "from scipy import linalg\n",
        "\n"
      ],
      "execution_count": null,
      "outputs": []
    },
    {
      "cell_type": "code",
      "metadata": {
        "colab": {
          "base_uri": "https://localhost:8080/"
        },
        "id": "fy0XsDkz11x5",
        "outputId": "5380f0b1-46f8-4699-aef3-9f6dc074a85d"
      },
      "source": [
        "matriz = np.array([ [1,2,3], [0,1,4], [0,0,1] ])\n",
        "matriz"
      ],
      "execution_count": null,
      "outputs": [
        {
          "output_type": "execute_result",
          "data": {
            "text/plain": [
              "array([[1, 2, 3],\n",
              "       [0, 1, 4],\n",
              "       [0, 0, 1]])"
            ]
          },
          "metadata": {
            "tags": []
          },
          "execution_count": 24
        }
      ]
    },
    {
      "cell_type": "code",
      "metadata": {
        "colab": {
          "base_uri": "https://localhost:8080/"
        },
        "id": "2pIgfQgF13pQ",
        "outputId": "f6ad1508-4cd5-46a8-b4ff-2ad37a86a161"
      },
      "source": [
        "# Calculando a inversa dessa matriz \n",
        "inversa =linalg.inv(matriz)\n",
        "inversa"
      ],
      "execution_count": null,
      "outputs": [
        {
          "output_type": "execute_result",
          "data": {
            "text/plain": [
              "array([[ 1., -2.,  5.],\n",
              "       [ 0.,  1., -4.],\n",
              "       [ 0.,  0.,  1.]])"
            ]
          },
          "metadata": {
            "tags": []
          },
          "execution_count": 27
        }
      ]
    },
    {
      "cell_type": "code",
      "metadata": {
        "colab": {
          "base_uri": "https://localhost:8080/"
        },
        "id": "Y4HXQb5C2CfA",
        "outputId": "dcfac408-ad13-411d-ddb2-eea42ee9e57a"
      },
      "source": [
        "# Vamos provar que está certo \n",
        "# matriz identidade \n",
        "matriz.dot(inversa)"
      ],
      "execution_count": null,
      "outputs": [
        {
          "output_type": "execute_result",
          "data": {
            "text/plain": [
              "array([[1., 0., 0.],\n",
              "       [0., 1., 0.],\n",
              "       [0., 0., 1.]])"
            ]
          },
          "metadata": {
            "tags": []
          },
          "execution_count": 28
        }
      ]
    },
    {
      "cell_type": "code",
      "metadata": {
        "colab": {
          "base_uri": "https://localhost:8080/"
        },
        "id": "ByZGomMa29lT",
        "outputId": "fbcf8f93-0e60-4410-c286-3aba647f9c9c"
      },
      "source": [
        "# Sistemas Lineares \n",
        "\n",
        "# | 3x  2y  -z  = 0 | \n",
        "# | X  +3y + Z  = 1 |\n",
        "# | 2X + 2Y -2Z = 2 |\n",
        "\n",
        "import numpy as np\n",
        "A = np.array( [\n",
        "    [3, 2, -1], \n",
        "    [1, 3, 1], \n",
        "    [2, 2, -2] ] )\n",
        "B = np.array( [ \n",
        "    [0], \n",
        "    [1], \n",
        "    [2] ])\n",
        "\n",
        "# Primeiro \n",
        "C = np.linalg.solve(A,B)\n",
        "print(C)\n",
        "\n"
      ],
      "execution_count": null,
      "outputs": [
        {
          "output_type": "stream",
          "text": [
            "[[-1.]\n",
            " [ 1.]\n",
            " [-1.]]\n"
          ],
          "name": "stdout"
        }
      ]
    },
    {
      "cell_type": "markdown",
      "metadata": {
        "id": "q6vfU_ES8QzD"
      },
      "source": [
        "   # Exercicio\n",
        "   <li>Qual é a inversa da matriz M?</li>\n",
        "    <li>Qual é a transposta da matriz M?</li>\n",
        "    <li>Qual é o determinante da matriz M para a terceira ordem?</li>\n",
        "    <li>Apresentar para a matriz M: máximo, mínimo, soma, média, variância e desvio padrão</li>\n",
        "    <li>Apresente os valores da Diagonal Principal da matriz (M)</li>\n",
        "    <li>Apresente os valores da Diagonal Secundária da matriz (M)</li>\n",
        "    <li>Apresente o somatório da Diagonal Principal da matriz (M)</li>\n",
        "    <li>Apresente o somatório da "
      ]
    },
    {
      "cell_type": "code",
      "metadata": {
        "id": "55F34Vx77ukB"
      },
      "source": [
        "import numpy as np\n",
        "from scipy import linalg\n",
        "\n",
        "M = np.array([\n",
        "    [1,  2 ,  3, 4 , 5], \n",
        "    [7, -2 , -3, 2,  9],  \n",
        "    [4,  5,  -3, 3,  9],\n",
        "    [4,  6,  7,  2, -1],\n",
        "    [8, -8,  8, -8,  9]\n",
        "])\n",
        "\n"
      ],
      "execution_count": null,
      "outputs": []
    },
    {
      "cell_type": "markdown",
      "metadata": {
        "id": "LX0UFPWF8PM2"
      },
      "source": [
        ""
      ]
    },
    {
      "cell_type": "code",
      "metadata": {
        "id": "7dLPiMoO71G6"
      },
      "source": [
        "#1- Qual é a inversa da matriz M\n",
        "inversa = linalg.inv(M)\n",
        "print(inversa)\n",
        "\n",
        "print(\"\")\n",
        "#2- Qual é a transposta da matriz M\n",
        "transposta = M.transpose()\n",
        "\n",
        "print(transposta)\n",
        "print(\"\")\n",
        "\n",
        "#3- Qual é o determinante da matriz M para a terceira ordem\n",
        "\n",
        "m_3 = M[0:3,0:3] # fatiamos para um matriz 3X3\n",
        "round(np.linalg.det(m_3),2)\n",
        "\n",
        "print(\"\")\n",
        "\n",
        "#4 -Apresentar para a matriz M: máximo, mínimo, soma, média, variância e desvio padrão\n",
        "\n",
        "print('maximo:',M.max())\n",
        "print('mínimo:',M.min())\n",
        "print('Soma:',M.sum())\n",
        "print('Média:',M.mean())\n",
        "print('Variancia:',M.var())\n",
        "print('ptp:',M.ptp())\n",
        "print(\"\")\n",
        "\n",
        "#5 -Apresente os valores da Diagonal Principal da matriz (M)\n",
        "\n",
        "print(M.diagonal())\n",
        "print(\"\")\n",
        "\n",
        "# Usando laço\n",
        "for i in range(len(M)):\n",
        "  print(M[i][i])\n",
        "\n",
        "#6 -Apresente os valores da Diagonal Secundária da matriz (M)\n",
        "\n",
        "for i in range(len(M)):\n",
        "  print(M[i][(len(M)-1)-i])\n",
        "print(\"\")\n",
        "\n",
        "print(\"\")\n",
        "#7- Apresente o somatório da Diagonal Principal da matriz (M)\n",
        "sum(M.diagonal())\n",
        "print(M)\n",
        "#8- Apresente o somatório da\n",
        "soma_sec=0\n",
        "for i in range(len(M)):\n",
        " soma_sec+=M[i][(len(M)-1)-i] \n",
        "print(soma_sec)"
      ],
      "execution_count": null,
      "outputs": []
    },
    {
      "cell_type": "code",
      "metadata": {
        "id": "Jb9EkmhAJRkC"
      },
      "source": [
        ""
      ],
      "execution_count": null,
      "outputs": []
    },
    {
      "cell_type": "markdown",
      "metadata": {
        "id": "KJvX-xU58Eau"
      },
      "source": [
        "# Pandas\n"
      ]
    },
    {
      "cell_type": "code",
      "metadata": {
        "id": "1qNtzmNr8HQV"
      },
      "source": [
        "import pandas as pd"
      ],
      "execution_count": null,
      "outputs": []
    },
    {
      "cell_type": "code",
      "metadata": {
        "id": "rpGCzMg78MGE"
      },
      "source": [
        "# O resultado de um dataset (conjunto de dados),no Pandas,\n",
        "# é chamado de DataFrame\n",
        "# Passos para trabalhar com pandas\n",
        "# 1 - importar a biblioteca\n",
        "# 2 - carregar os dados para uma variável\n",
        "# 3 - Verificar o dataset\n"
      ],
      "execution_count": null,
      "outputs": []
    },
    {
      "cell_type": "code",
      "metadata": {
        "id": "QuUSfJuE8hSM"
      },
      "source": [
        "# 1 - importar a biblioteca\n",
        "import pandas as pd"
      ],
      "execution_count": null,
      "outputs": []
    },
    {
      "cell_type": "code",
      "metadata": {
        "id": "9iD4uoMq8l5E"
      },
      "source": [
        "# 2 - Caarregar os dados para um variável\n",
        "dataset = \"https://raw.githubusercontent.com/datasciencedojo/datasets/master/titanic.csv\"\n",
        "# dfé uma abreviação para DataFrame\n",
        "df = pd.read_csv(dataset)"
      ],
      "execution_count": null,
      "outputs": []
    },
    {
      "cell_type": "code",
      "metadata": {
        "id": "6t2BdTkD8yyk"
      },
      "source": [
        "df"
      ],
      "execution_count": null,
      "outputs": []
    },
    {
      "cell_type": "code",
      "metadata": {
        "id": "sI5tTV9N97O8"
      },
      "source": [
        "# verificando as cincos primeiras linhas\n",
        "df.head()"
      ],
      "execution_count": null,
      "outputs": []
    },
    {
      "cell_type": "code",
      "metadata": {
        "id": "x-9N3-2d-dnq"
      },
      "source": [
        "# Verificar um número de linhas especifico no início\n",
        "df.head(2)"
      ],
      "execution_count": null,
      "outputs": []
    },
    {
      "cell_type": "code",
      "metadata": {
        "id": "psyX9rpr-kZZ"
      },
      "source": [
        "# verificando dados no final do DataFrame\n",
        "df.tail() # tail é cauda (final)"
      ],
      "execution_count": null,
      "outputs": []
    },
    {
      "cell_type": "code",
      "metadata": {
        "id": "SpGriKTC-xXM"
      },
      "source": [
        "# Verificar um número de linhas especifico no final\n",
        "df.tail(2)"
      ],
      "execution_count": null,
      "outputs": []
    },
    {
      "cell_type": "code",
      "metadata": {
        "id": "Cut24EkA-82l"
      },
      "source": [
        "#Verificando aleatoriamente\n",
        "df.sample(5) # sample significa \"amostra\""
      ],
      "execution_count": null,
      "outputs": []
    },
    {
      "cell_type": "code",
      "metadata": {
        "id": "xGdbjvLU_Ep1"
      },
      "source": [
        "# Verifiando número de colunas e de linhas \n",
        "df.shape"
      ],
      "execution_count": null,
      "outputs": []
    },
    {
      "cell_type": "code",
      "metadata": {
        "colab": {
          "base_uri": "https://localhost:8080/"
        },
        "id": "7WFGMARw_1Yd",
        "outputId": "6d8973b8-dfa1-4835-e0d7-240a91a92fb9"
      },
      "source": [
        "# Mostrando individualmente número de linhas e de colunas\n",
        "print('Observaçôes:',df.shape[0])\n",
        "print('Variavéis..:',df.shape[1])"
      ],
      "execution_count": null,
      "outputs": [
        {
          "output_type": "stream",
          "text": [
            "Observaçôes: 891\n",
            "Variavéis..: 12\n"
          ],
          "name": "stdout"
        }
      ]
    },
    {
      "cell_type": "code",
      "metadata": {
        "colab": {
          "base_uri": "https://localhost:8080/"
        },
        "id": "31u9RjvaAa3F",
        "outputId": "1ee7b2a3-afe8-492c-99bf-2f0420dc24bf"
      },
      "source": [
        "# Descobrindo o tipo das variáveis \n",
        "# o tipo object é uma String\n",
        "df.info()"
      ],
      "execution_count": null,
      "outputs": [
        {
          "output_type": "stream",
          "text": [
            "<class 'pandas.core.frame.DataFrame'>\n",
            "RangeIndex: 891 entries, 0 to 890\n",
            "Data columns (total 12 columns):\n",
            " #   Column       Non-Null Count  Dtype  \n",
            "---  ------       --------------  -----  \n",
            " 0   PassengerId  891 non-null    int64  \n",
            " 1   Survived     891 non-null    int64  \n",
            " 2   Pclass       891 non-null    int64  \n",
            " 3   Name         891 non-null    object \n",
            " 4   Sex          891 non-null    object \n",
            " 5   Age          714 non-null    float64\n",
            " 6   SibSp        891 non-null    int64  \n",
            " 7   Parch        891 non-null    int64  \n",
            " 8   Ticket       891 non-null    object \n",
            " 9   Fare         891 non-null    float64\n",
            " 10  Cabin        204 non-null    object \n",
            " 11  Embarked     889 non-null    object \n",
            "dtypes: float64(2), int64(5), object(5)\n",
            "memory usage: 83.7+ KB\n"
          ],
          "name": "stdout"
        }
      ]
    },
    {
      "cell_type": "code",
      "metadata": {
        "id": "7Wq1K7pPA0h9"
      },
      "source": [
        "# Visualizando o nome das colunas ou variáveis\n",
        "df.columns"
      ],
      "execution_count": null,
      "outputs": []
    },
    {
      "cell_type": "code",
      "metadata": {
        "id": "_AEFDhVIBRH1"
      },
      "source": [
        "for coluna in df.columns:\n",
        "  print(coluna)"
      ],
      "execution_count": null,
      "outputs": []
    },
    {
      "cell_type": "code",
      "metadata": {
        "colab": {
          "base_uri": "https://localhost:8080/"
        },
        "id": "5G_G5sCOBfAw",
        "outputId": "1da85289-e2fd-4a55-e4db-03a8e687b334"
      },
      "source": [
        "# Verificando dados estatísticos\n",
        "df.describe"
      ],
      "execution_count": null,
      "outputs": [
        {
          "output_type": "execute_result",
          "data": {
            "text/plain": [
              "<bound method NDFrame.describe of      PassengerId  Survived  Pclass  ...     Fare Cabin  Embarked\n",
              "0              1         0       3  ...   7.2500   NaN         S\n",
              "1              2         1       1  ...  71.2833   C85         C\n",
              "2              3         1       3  ...   7.9250   NaN         S\n",
              "3              4         1       1  ...  53.1000  C123         S\n",
              "4              5         0       3  ...   8.0500   NaN         S\n",
              "..           ...       ...     ...  ...      ...   ...       ...\n",
              "886          887         0       2  ...  13.0000   NaN         S\n",
              "887          888         1       1  ...  30.0000   B42         S\n",
              "888          889         0       3  ...  23.4500   NaN         S\n",
              "889          890         1       1  ...  30.0000  C148         C\n",
              "890          891         0       3  ...   7.7500   NaN         Q\n",
              "\n",
              "[891 rows x 12 columns]>"
            ]
          },
          "metadata": {
            "tags": []
          },
          "execution_count": 24
        }
      ]
    },
    {
      "cell_type": "code",
      "metadata": {
        "colab": {
          "base_uri": "https://localhost:8080/",
          "height": 317
        },
        "id": "U9I2kWLXBr_W",
        "outputId": "62c42da7-f521-46b1-bd5a-3208683a0a0c"
      },
      "source": [
        "df.describe()"
      ],
      "execution_count": null,
      "outputs": [
        {
          "output_type": "execute_result",
          "data": {
            "text/html": [
              "<div>\n",
              "<style scoped>\n",
              "    .dataframe tbody tr th:only-of-type {\n",
              "        vertical-align: middle;\n",
              "    }\n",
              "\n",
              "    .dataframe tbody tr th {\n",
              "        vertical-align: top;\n",
              "    }\n",
              "\n",
              "    .dataframe thead th {\n",
              "        text-align: right;\n",
              "    }\n",
              "</style>\n",
              "<table border=\"1\" class=\"dataframe\">\n",
              "  <thead>\n",
              "    <tr style=\"text-align: right;\">\n",
              "      <th></th>\n",
              "      <th>PassengerId</th>\n",
              "      <th>Survived</th>\n",
              "      <th>Pclass</th>\n",
              "      <th>Age</th>\n",
              "      <th>SibSp</th>\n",
              "      <th>Parch</th>\n",
              "      <th>Fare</th>\n",
              "    </tr>\n",
              "  </thead>\n",
              "  <tbody>\n",
              "    <tr>\n",
              "      <th>count</th>\n",
              "      <td>891.000000</td>\n",
              "      <td>891.000000</td>\n",
              "      <td>891.000000</td>\n",
              "      <td>714.000000</td>\n",
              "      <td>891.000000</td>\n",
              "      <td>891.000000</td>\n",
              "      <td>891.000000</td>\n",
              "    </tr>\n",
              "    <tr>\n",
              "      <th>mean</th>\n",
              "      <td>446.000000</td>\n",
              "      <td>0.383838</td>\n",
              "      <td>2.308642</td>\n",
              "      <td>29.699118</td>\n",
              "      <td>0.523008</td>\n",
              "      <td>0.381594</td>\n",
              "      <td>32.204208</td>\n",
              "    </tr>\n",
              "    <tr>\n",
              "      <th>std</th>\n",
              "      <td>257.353842</td>\n",
              "      <td>0.486592</td>\n",
              "      <td>0.836071</td>\n",
              "      <td>14.526497</td>\n",
              "      <td>1.102743</td>\n",
              "      <td>0.806057</td>\n",
              "      <td>49.693429</td>\n",
              "    </tr>\n",
              "    <tr>\n",
              "      <th>min</th>\n",
              "      <td>1.000000</td>\n",
              "      <td>0.000000</td>\n",
              "      <td>1.000000</td>\n",
              "      <td>0.420000</td>\n",
              "      <td>0.000000</td>\n",
              "      <td>0.000000</td>\n",
              "      <td>0.000000</td>\n",
              "    </tr>\n",
              "    <tr>\n",
              "      <th>25%</th>\n",
              "      <td>223.500000</td>\n",
              "      <td>0.000000</td>\n",
              "      <td>2.000000</td>\n",
              "      <td>20.125000</td>\n",
              "      <td>0.000000</td>\n",
              "      <td>0.000000</td>\n",
              "      <td>7.910400</td>\n",
              "    </tr>\n",
              "    <tr>\n",
              "      <th>50%</th>\n",
              "      <td>446.000000</td>\n",
              "      <td>0.000000</td>\n",
              "      <td>3.000000</td>\n",
              "      <td>28.000000</td>\n",
              "      <td>0.000000</td>\n",
              "      <td>0.000000</td>\n",
              "      <td>14.454200</td>\n",
              "    </tr>\n",
              "    <tr>\n",
              "      <th>75%</th>\n",
              "      <td>668.500000</td>\n",
              "      <td>1.000000</td>\n",
              "      <td>3.000000</td>\n",
              "      <td>38.000000</td>\n",
              "      <td>1.000000</td>\n",
              "      <td>0.000000</td>\n",
              "      <td>31.000000</td>\n",
              "    </tr>\n",
              "    <tr>\n",
              "      <th>max</th>\n",
              "      <td>891.000000</td>\n",
              "      <td>1.000000</td>\n",
              "      <td>3.000000</td>\n",
              "      <td>80.000000</td>\n",
              "      <td>8.000000</td>\n",
              "      <td>6.000000</td>\n",
              "      <td>512.329200</td>\n",
              "    </tr>\n",
              "  </tbody>\n",
              "</table>\n",
              "</div>"
            ],
            "text/plain": [
              "       PassengerId    Survived      Pclass  ...       SibSp       Parch        Fare\n",
              "count   891.000000  891.000000  891.000000  ...  891.000000  891.000000  891.000000\n",
              "mean    446.000000    0.383838    2.308642  ...    0.523008    0.381594   32.204208\n",
              "std     257.353842    0.486592    0.836071  ...    1.102743    0.806057   49.693429\n",
              "min       1.000000    0.000000    1.000000  ...    0.000000    0.000000    0.000000\n",
              "25%     223.500000    0.000000    2.000000  ...    0.000000    0.000000    7.910400\n",
              "50%     446.000000    0.000000    3.000000  ...    0.000000    0.000000   14.454200\n",
              "75%     668.500000    1.000000    3.000000  ...    1.000000    0.000000   31.000000\n",
              "max     891.000000    1.000000    3.000000  ...    8.000000    6.000000  512.329200\n",
              "\n",
              "[8 rows x 7 columns]"
            ]
          },
          "metadata": {
            "tags": []
          },
          "execution_count": 23
        }
      ]
    },
    {
      "cell_type": "code",
      "metadata": {
        "colab": {
          "base_uri": "https://localhost:8080/"
        },
        "id": "8rZBKcBACVV7",
        "outputId": "a8bb59bc-6832-4b04-b8d9-8c41849d19b2"
      },
      "source": [
        "# Visualizando o índice do DataFrame\n",
        "df.index"
      ],
      "execution_count": null,
      "outputs": [
        {
          "output_type": "execute_result",
          "data": {
            "text/plain": [
              "Int64Index([  1,   2,   3,   4,   5,   6,   7,   8,   9,  10,\n",
              "            ...\n",
              "            882, 883, 884, 885, 886, 887, 888, 889, 890, 891],\n",
              "           dtype='int64', name='PassengerId', length=891)"
            ]
          },
          "metadata": {
            "tags": []
          },
          "execution_count": 32
        }
      ]
    },
    {
      "cell_type": "code",
      "metadata": {
        "id": "sSqMli2rCaZN"
      },
      "source": [
        "# Como definir uma outra coluna (variável como índice?\n",
        "df.set_index('PassengerId', inplace=True)\n",
        "df.head()"
      ],
      "execution_count": null,
      "outputs": []
    },
    {
      "cell_type": "code",
      "metadata": {
        "id": "wjmqVoXIDOkw"
      },
      "source": [
        "# Consultando \"coisas\".....\n",
        "# loc() - esse comando faz pesquisas dentro de um DataFrame\n",
        "# Podemos usar listas para representar parâmetros de busca\n",
        "# Quem é o primeiro passageiro?\n",
        "df.loc[1]\n"
      ],
      "execution_count": null,
      "outputs": []
    },
    {
      "cell_type": "code",
      "metadata": {
        "id": "9_t7K3QzDsNp"
      },
      "source": [
        "#Quem são os três primeiros passageiros?\n",
        "df.loc[0:3]"
      ],
      "execution_count": null,
      "outputs": []
    },
    {
      "cell_type": "code",
      "metadata": {
        "colab": {
          "background_save": true
        },
        "id": "0GC0zRpkECOV",
        "outputId": "06a9ff24-cc75-4574-c254-3501bffdbad7"
      },
      "source": [
        "#  Quem são o primeiro,terceiro e quinto passageiro?\n",
        "df.loc[[1,3,5]]"
      ],
      "execution_count": null,
      "outputs": [
        {
          "output_type": "execute_result",
          "data": {
            "text/html": [
              "<div>\n",
              "<style scoped>\n",
              "    .dataframe tbody tr th:only-of-type {\n",
              "        vertical-align: middle;\n",
              "    }\n",
              "\n",
              "    .dataframe tbody tr th {\n",
              "        vertical-align: top;\n",
              "    }\n",
              "\n",
              "    .dataframe thead th {\n",
              "        text-align: right;\n",
              "    }\n",
              "</style>\n",
              "<table border=\"1\" class=\"dataframe\">\n",
              "  <thead>\n",
              "    <tr style=\"text-align: right;\">\n",
              "      <th></th>\n",
              "      <th>Survived</th>\n",
              "      <th>Pclass</th>\n",
              "      <th>Name</th>\n",
              "      <th>Sex</th>\n",
              "      <th>Age</th>\n",
              "      <th>SibSp</th>\n",
              "      <th>Parch</th>\n",
              "      <th>Ticket</th>\n",
              "      <th>Fare</th>\n",
              "      <th>Cabin</th>\n",
              "      <th>Embarked</th>\n",
              "    </tr>\n",
              "    <tr>\n",
              "      <th>PassengerId</th>\n",
              "      <th></th>\n",
              "      <th></th>\n",
              "      <th></th>\n",
              "      <th></th>\n",
              "      <th></th>\n",
              "      <th></th>\n",
              "      <th></th>\n",
              "      <th></th>\n",
              "      <th></th>\n",
              "      <th></th>\n",
              "      <th></th>\n",
              "    </tr>\n",
              "  </thead>\n",
              "  <tbody>\n",
              "    <tr>\n",
              "      <th>1</th>\n",
              "      <td>0</td>\n",
              "      <td>3</td>\n",
              "      <td>Braund, Mr. Owen Harris</td>\n",
              "      <td>male</td>\n",
              "      <td>22.0</td>\n",
              "      <td>1</td>\n",
              "      <td>0</td>\n",
              "      <td>A/5 21171</td>\n",
              "      <td>7.250</td>\n",
              "      <td>NaN</td>\n",
              "      <td>S</td>\n",
              "    </tr>\n",
              "    <tr>\n",
              "      <th>3</th>\n",
              "      <td>1</td>\n",
              "      <td>3</td>\n",
              "      <td>Heikkinen, Miss. Laina</td>\n",
              "      <td>female</td>\n",
              "      <td>26.0</td>\n",
              "      <td>0</td>\n",
              "      <td>0</td>\n",
              "      <td>STON/O2. 3101282</td>\n",
              "      <td>7.925</td>\n",
              "      <td>NaN</td>\n",
              "      <td>S</td>\n",
              "    </tr>\n",
              "    <tr>\n",
              "      <th>5</th>\n",
              "      <td>0</td>\n",
              "      <td>3</td>\n",
              "      <td>Allen, Mr. William Henry</td>\n",
              "      <td>male</td>\n",
              "      <td>35.0</td>\n",
              "      <td>0</td>\n",
              "      <td>0</td>\n",
              "      <td>373450</td>\n",
              "      <td>8.050</td>\n",
              "      <td>NaN</td>\n",
              "      <td>S</td>\n",
              "    </tr>\n",
              "  </tbody>\n",
              "</table>\n",
              "</div>"
            ],
            "text/plain": [
              "             Survived  Pclass                      Name  ...   Fare  Cabin  Embarked\n",
              "PassengerId                                              ...                        \n",
              "1                   0       3   Braund, Mr. Owen Harris  ...  7.250    NaN         S\n",
              "3                   1       3    Heikkinen, Miss. Laina  ...  7.925    NaN         S\n",
              "5                   0       3  Allen, Mr. William Henry  ...  8.050    NaN         S\n",
              "\n",
              "[3 rows x 11 columns]"
            ]
          },
          "metadata": {
            "tags": []
          },
          "execution_count": 0
        }
      ]
    },
    {
      "cell_type": "code",
      "metadata": {
        "id": "H752AHnNET_E"
      },
      "source": [
        "# Outa forma sem usar lista\n",
        "df.loc[0:6:2]"
      ],
      "execution_count": null,
      "outputs": []
    },
    {
      "cell_type": "code",
      "metadata": {
        "id": "cVP0xoM3v6jt"
      },
      "source": [
        "import pandas as pd\n",
        "import  seaborn as sns # uma biblioteca gráfica que contém alguns dados\n"
      ],
      "execution_count": null,
      "outputs": []
    },
    {
      "cell_type": "code",
      "metadata": {
        "id": "MIDjPlcbwXP6"
      },
      "source": [
        "df = sns.load_dataset('titanic')"
      ],
      "execution_count": null,
      "outputs": []
    },
    {
      "cell_type": "code",
      "metadata": {
        "colab": {
          "base_uri": "https://localhost:8080/",
          "height": 224
        },
        "id": "5vLFcCkjwta2",
        "outputId": "cad508c7-fb43-4076-b2b2-3b713d0703fd"
      },
      "source": [
        "df.head()\n"
      ],
      "execution_count": null,
      "outputs": [
        {
          "output_type": "execute_result",
          "data": {
            "text/html": [
              "<div>\n",
              "<style scoped>\n",
              "    .dataframe tbody tr th:only-of-type {\n",
              "        vertical-align: middle;\n",
              "    }\n",
              "\n",
              "    .dataframe tbody tr th {\n",
              "        vertical-align: top;\n",
              "    }\n",
              "\n",
              "    .dataframe thead th {\n",
              "        text-align: right;\n",
              "    }\n",
              "</style>\n",
              "<table border=\"1\" class=\"dataframe\">\n",
              "  <thead>\n",
              "    <tr style=\"text-align: right;\">\n",
              "      <th></th>\n",
              "      <th>survived</th>\n",
              "      <th>pclass</th>\n",
              "      <th>sex</th>\n",
              "      <th>age</th>\n",
              "      <th>sibsp</th>\n",
              "      <th>parch</th>\n",
              "      <th>fare</th>\n",
              "      <th>embarked</th>\n",
              "      <th>class</th>\n",
              "      <th>who</th>\n",
              "      <th>adult_male</th>\n",
              "      <th>deck</th>\n",
              "      <th>embark_town</th>\n",
              "      <th>alive</th>\n",
              "      <th>alone</th>\n",
              "    </tr>\n",
              "  </thead>\n",
              "  <tbody>\n",
              "    <tr>\n",
              "      <th>0</th>\n",
              "      <td>0</td>\n",
              "      <td>3</td>\n",
              "      <td>male</td>\n",
              "      <td>22.0</td>\n",
              "      <td>1</td>\n",
              "      <td>0</td>\n",
              "      <td>7.2500</td>\n",
              "      <td>S</td>\n",
              "      <td>Third</td>\n",
              "      <td>man</td>\n",
              "      <td>True</td>\n",
              "      <td>NaN</td>\n",
              "      <td>Southampton</td>\n",
              "      <td>no</td>\n",
              "      <td>False</td>\n",
              "    </tr>\n",
              "    <tr>\n",
              "      <th>1</th>\n",
              "      <td>1</td>\n",
              "      <td>1</td>\n",
              "      <td>female</td>\n",
              "      <td>38.0</td>\n",
              "      <td>1</td>\n",
              "      <td>0</td>\n",
              "      <td>71.2833</td>\n",
              "      <td>C</td>\n",
              "      <td>First</td>\n",
              "      <td>woman</td>\n",
              "      <td>False</td>\n",
              "      <td>C</td>\n",
              "      <td>Cherbourg</td>\n",
              "      <td>yes</td>\n",
              "      <td>False</td>\n",
              "    </tr>\n",
              "    <tr>\n",
              "      <th>2</th>\n",
              "      <td>1</td>\n",
              "      <td>3</td>\n",
              "      <td>female</td>\n",
              "      <td>26.0</td>\n",
              "      <td>0</td>\n",
              "      <td>0</td>\n",
              "      <td>7.9250</td>\n",
              "      <td>S</td>\n",
              "      <td>Third</td>\n",
              "      <td>woman</td>\n",
              "      <td>False</td>\n",
              "      <td>NaN</td>\n",
              "      <td>Southampton</td>\n",
              "      <td>yes</td>\n",
              "      <td>True</td>\n",
              "    </tr>\n",
              "    <tr>\n",
              "      <th>3</th>\n",
              "      <td>1</td>\n",
              "      <td>1</td>\n",
              "      <td>female</td>\n",
              "      <td>35.0</td>\n",
              "      <td>1</td>\n",
              "      <td>0</td>\n",
              "      <td>53.1000</td>\n",
              "      <td>S</td>\n",
              "      <td>First</td>\n",
              "      <td>woman</td>\n",
              "      <td>False</td>\n",
              "      <td>C</td>\n",
              "      <td>Southampton</td>\n",
              "      <td>yes</td>\n",
              "      <td>False</td>\n",
              "    </tr>\n",
              "    <tr>\n",
              "      <th>4</th>\n",
              "      <td>0</td>\n",
              "      <td>3</td>\n",
              "      <td>male</td>\n",
              "      <td>35.0</td>\n",
              "      <td>0</td>\n",
              "      <td>0</td>\n",
              "      <td>8.0500</td>\n",
              "      <td>S</td>\n",
              "      <td>Third</td>\n",
              "      <td>man</td>\n",
              "      <td>True</td>\n",
              "      <td>NaN</td>\n",
              "      <td>Southampton</td>\n",
              "      <td>no</td>\n",
              "      <td>True</td>\n",
              "    </tr>\n",
              "  </tbody>\n",
              "</table>\n",
              "</div>"
            ],
            "text/plain": [
              "   survived  pclass     sex   age  ...  deck  embark_town  alive  alone\n",
              "0         0       3    male  22.0  ...   NaN  Southampton     no  False\n",
              "1         1       1  female  38.0  ...     C    Cherbourg    yes  False\n",
              "2         1       3  female  26.0  ...   NaN  Southampton    yes   True\n",
              "3         1       1  female  35.0  ...     C  Southampton    yes  False\n",
              "4         0       3    male  35.0  ...   NaN  Southampton     no   True\n",
              "\n",
              "[5 rows x 15 columns]"
            ]
          },
          "metadata": {
            "tags": []
          },
          "execution_count": 7
        }
      ]
    },
    {
      "cell_type": "code",
      "metadata": {
        "id": "8CrPnwrb7JMw"
      },
      "source": [
        "# vamos eliminar colunas que não interessam (agora)\n",
        "# drop() - apga linhas ou colunas com base no eixo (axis)\n",
        "# Temos duas formas, ou apagamos colunas ou criamos um novo DataFrame com as colunas que desejamos\n"
      ],
      "execution_count": null,
      "outputs": []
    },
    {
      "cell_type": "code",
      "metadata": {
        "id": "cj46Wf6-7mK2"
      },
      "source": [
        "# Criar um novo DataFrame a partir do existente\n",
        "df_novo = df[['pclass','sex','age','survived','alone']]\n",
        "df_novo.head(20)"
      ],
      "execution_count": null,
      "outputs": []
    },
    {
      "cell_type": "code",
      "metadata": {
        "colab": {
          "base_uri": "https://localhost:8080/"
        },
        "id": "0DlMR0S4-B0d",
        "outputId": "0a377b66-3ad6-426f-d909-a6abcc1a48b2"
      },
      "source": [
        "df_novo.info()\n"
      ],
      "execution_count": null,
      "outputs": [
        {
          "output_type": "stream",
          "text": [
            "<class 'pandas.core.frame.DataFrame'>\n",
            "RangeIndex: 891 entries, 0 to 890\n",
            "Data columns (total 6 columns):\n",
            " #   Column    Non-Null Count  Dtype  \n",
            "---  ------    --------------  -----  \n",
            " 0   pclass    891 non-null    int64  \n",
            " 1   sex       891 non-null    object \n",
            " 2   age       714 non-null    float64\n",
            " 3   survived  891 non-null    int64  \n",
            " 4   alone     891 non-null    bool   \n",
            " 5   0         891 non-null    object \n",
            "dtypes: bool(1), float64(1), int64(2), object(2)\n",
            "memory usage: 35.8+ KB\n"
          ],
          "name": "stdout"
        }
      ]
    },
    {
      "cell_type": "code",
      "metadata": {
        "colab": {
          "base_uri": "https://localhost:8080/",
          "height": 224
        },
        "id": "i68iQmod-lge",
        "outputId": "36f571ed-e798-484e-b88d-20e91d60a57a"
      },
      "source": [
        "# Apagando colunas \n",
        "df.head()"
      ],
      "execution_count": null,
      "outputs": [
        {
          "output_type": "execute_result",
          "data": {
            "text/html": [
              "<div>\n",
              "<style scoped>\n",
              "    .dataframe tbody tr th:only-of-type {\n",
              "        vertical-align: middle;\n",
              "    }\n",
              "\n",
              "    .dataframe tbody tr th {\n",
              "        vertical-align: top;\n",
              "    }\n",
              "\n",
              "    .dataframe thead th {\n",
              "        text-align: right;\n",
              "    }\n",
              "</style>\n",
              "<table border=\"1\" class=\"dataframe\">\n",
              "  <thead>\n",
              "    <tr style=\"text-align: right;\">\n",
              "      <th></th>\n",
              "      <th>survived</th>\n",
              "      <th>pclass</th>\n",
              "      <th>sex</th>\n",
              "      <th>age</th>\n",
              "      <th>parch</th>\n",
              "      <th>fare</th>\n",
              "      <th>embarked</th>\n",
              "      <th>class</th>\n",
              "      <th>who</th>\n",
              "      <th>adult_male</th>\n",
              "      <th>deck</th>\n",
              "      <th>embark_town</th>\n",
              "      <th>alive</th>\n",
              "      <th>alone</th>\n",
              "      <th>1</th>\n",
              "    </tr>\n",
              "  </thead>\n",
              "  <tbody>\n",
              "    <tr>\n",
              "      <th>0</th>\n",
              "      <td>0</td>\n",
              "      <td>3</td>\n",
              "      <td>male</td>\n",
              "      <td>22.0</td>\n",
              "      <td>0</td>\n",
              "      <td>7.2500</td>\n",
              "      <td>S</td>\n",
              "      <td>Third</td>\n",
              "      <td>man</td>\n",
              "      <td>True</td>\n",
              "      <td>NaN</td>\n",
              "      <td>Southampton</td>\n",
              "      <td>no</td>\n",
              "      <td>False</td>\n",
              "      <td>classe</td>\n",
              "    </tr>\n",
              "    <tr>\n",
              "      <th>1</th>\n",
              "      <td>1</td>\n",
              "      <td>1</td>\n",
              "      <td>female</td>\n",
              "      <td>38.0</td>\n",
              "      <td>0</td>\n",
              "      <td>71.2833</td>\n",
              "      <td>C</td>\n",
              "      <td>First</td>\n",
              "      <td>woman</td>\n",
              "      <td>False</td>\n",
              "      <td>C</td>\n",
              "      <td>Cherbourg</td>\n",
              "      <td>yes</td>\n",
              "      <td>False</td>\n",
              "      <td>classe</td>\n",
              "    </tr>\n",
              "    <tr>\n",
              "      <th>2</th>\n",
              "      <td>1</td>\n",
              "      <td>3</td>\n",
              "      <td>female</td>\n",
              "      <td>26.0</td>\n",
              "      <td>0</td>\n",
              "      <td>7.9250</td>\n",
              "      <td>S</td>\n",
              "      <td>Third</td>\n",
              "      <td>woman</td>\n",
              "      <td>False</td>\n",
              "      <td>NaN</td>\n",
              "      <td>Southampton</td>\n",
              "      <td>yes</td>\n",
              "      <td>True</td>\n",
              "      <td>classe</td>\n",
              "    </tr>\n",
              "    <tr>\n",
              "      <th>3</th>\n",
              "      <td>1</td>\n",
              "      <td>1</td>\n",
              "      <td>female</td>\n",
              "      <td>35.0</td>\n",
              "      <td>0</td>\n",
              "      <td>53.1000</td>\n",
              "      <td>S</td>\n",
              "      <td>First</td>\n",
              "      <td>woman</td>\n",
              "      <td>False</td>\n",
              "      <td>C</td>\n",
              "      <td>Southampton</td>\n",
              "      <td>yes</td>\n",
              "      <td>False</td>\n",
              "      <td>classe</td>\n",
              "    </tr>\n",
              "    <tr>\n",
              "      <th>4</th>\n",
              "      <td>0</td>\n",
              "      <td>3</td>\n",
              "      <td>male</td>\n",
              "      <td>35.0</td>\n",
              "      <td>0</td>\n",
              "      <td>8.0500</td>\n",
              "      <td>S</td>\n",
              "      <td>Third</td>\n",
              "      <td>man</td>\n",
              "      <td>True</td>\n",
              "      <td>NaN</td>\n",
              "      <td>Southampton</td>\n",
              "      <td>no</td>\n",
              "      <td>True</td>\n",
              "      <td>classe</td>\n",
              "    </tr>\n",
              "  </tbody>\n",
              "</table>\n",
              "</div>"
            ],
            "text/plain": [
              "   survived  pclass     sex   age  parch  ...  deck  embark_town alive  alone       1\n",
              "0         0       3    male  22.0      0  ...   NaN  Southampton    no  False  classe\n",
              "1         1       1  female  38.0      0  ...     C    Cherbourg   yes  False  classe\n",
              "2         1       3  female  26.0      0  ...   NaN  Southampton   yes   True  classe\n",
              "3         1       1  female  35.0      0  ...     C  Southampton   yes  False  classe\n",
              "4         0       3    male  35.0      0  ...   NaN  Southampton    no   True  classe\n",
              "\n",
              "[5 rows x 15 columns]"
            ]
          },
          "metadata": {
            "tags": []
          },
          "execution_count": 21
        }
      ]
    },
    {
      "cell_type": "code",
      "metadata": {
        "id": "0h0bEw4E-reg"
      },
      "source": [
        "# axisil =1 (colunas)\n",
        "# axis =0(linhas)\n",
        "# inplace altera o DataFrame atual (sobrescreve-o)\n",
        "\n",
        "df.drop(['parch','fare','embarked','class','who'],axis=1,inplace=True)"
      ],
      "execution_count": null,
      "outputs": []
    },
    {
      "cell_type": "code",
      "metadata": {
        "id": "5-Nn10zJ_LrM"
      },
      "source": [
        "df.head(1)"
      ],
      "execution_count": null,
      "outputs": []
    },
    {
      "cell_type": "code",
      "metadata": {
        "colab": {
          "base_uri": "https://localhost:8080/",
          "height": 204
        },
        "id": "BoOS71a-BMKV",
        "outputId": "5c1a8da7-f76e-4cbe-e60f-2b8cb229a9e6"
      },
      "source": [
        "df_novo = df_novo.rename(\n",
        "    columns={\n",
        "        'pclass':'classe',\n",
        "        'sex':'sexo',\n",
        "        'idadde':'idade',\n",
        "        'solo':'sozinho',\n",
        "        'sobreviveu':'sobrevivente'\n",
        "    }\n",
        ")\n",
        "\n",
        "df_novo.head()"
      ],
      "execution_count": null,
      "outputs": [
        {
          "output_type": "execute_result",
          "data": {
            "text/html": [
              "<div>\n",
              "<style scoped>\n",
              "    .dataframe tbody tr th:only-of-type {\n",
              "        vertical-align: middle;\n",
              "    }\n",
              "\n",
              "    .dataframe tbody tr th {\n",
              "        vertical-align: top;\n",
              "    }\n",
              "\n",
              "    .dataframe thead th {\n",
              "        text-align: right;\n",
              "    }\n",
              "</style>\n",
              "<table border=\"1\" class=\"dataframe\">\n",
              "  <thead>\n",
              "    <tr style=\"text-align: right;\">\n",
              "      <th></th>\n",
              "      <th>classe</th>\n",
              "      <th>sexo</th>\n",
              "      <th>idade</th>\n",
              "      <th>sobrevivente</th>\n",
              "      <th>sozinho</th>\n",
              "      <th>0</th>\n",
              "    </tr>\n",
              "  </thead>\n",
              "  <tbody>\n",
              "    <tr>\n",
              "      <th>0</th>\n",
              "      <td>3</td>\n",
              "      <td>male</td>\n",
              "      <td>22.0</td>\n",
              "      <td>0</td>\n",
              "      <td>False</td>\n",
              "      <td>classe</td>\n",
              "    </tr>\n",
              "    <tr>\n",
              "      <th>1</th>\n",
              "      <td>1</td>\n",
              "      <td>female</td>\n",
              "      <td>38.0</td>\n",
              "      <td>1</td>\n",
              "      <td>False</td>\n",
              "      <td>classe</td>\n",
              "    </tr>\n",
              "    <tr>\n",
              "      <th>2</th>\n",
              "      <td>3</td>\n",
              "      <td>female</td>\n",
              "      <td>26.0</td>\n",
              "      <td>1</td>\n",
              "      <td>True</td>\n",
              "      <td>classe</td>\n",
              "    </tr>\n",
              "    <tr>\n",
              "      <th>3</th>\n",
              "      <td>1</td>\n",
              "      <td>female</td>\n",
              "      <td>35.0</td>\n",
              "      <td>1</td>\n",
              "      <td>False</td>\n",
              "      <td>classe</td>\n",
              "    </tr>\n",
              "    <tr>\n",
              "      <th>4</th>\n",
              "      <td>3</td>\n",
              "      <td>male</td>\n",
              "      <td>35.0</td>\n",
              "      <td>0</td>\n",
              "      <td>True</td>\n",
              "      <td>classe</td>\n",
              "    </tr>\n",
              "  </tbody>\n",
              "</table>\n",
              "</div>"
            ],
            "text/plain": [
              "   classe    sexo  idade  sobrevivente  sozinho       0\n",
              "0       3    male   22.0             0    False  classe\n",
              "1       1  female   38.0             1    False  classe\n",
              "2       3  female   26.0             1     True  classe\n",
              "3       1  female   35.0             1    False  classe\n",
              "4       3    male   35.0             0     True  classe"
            ]
          },
          "metadata": {
            "tags": []
          },
          "execution_count": 35
        }
      ]
    },
    {
      "cell_type": "code",
      "metadata": {
        "id": "_f7YlBVJCfYq"
      },
      "source": [
        "# Vamos salvar esse dataset tratado em um arquivo (csv)\n",
        "df_novo.to_csv('titanic_tratado.csv')"
      ],
      "execution_count": null,
      "outputs": []
    },
    {
      "cell_type": "code",
      "metadata": {
        "colab": {
          "base_uri": "https://localhost:8080/",
          "height": 204
        },
        "id": "g3NEK_8VDfwc",
        "outputId": "941a77d4-4b83-47ea-91f1-15d6f1b1f001"
      },
      "source": [
        "# abrir o arquivo filtrado\n",
        "df = pd.read_csv('titanic_tratado.csv')\n",
        "df.head()"
      ],
      "execution_count": null,
      "outputs": [
        {
          "output_type": "execute_result",
          "data": {
            "text/html": [
              "<div>\n",
              "<style scoped>\n",
              "    .dataframe tbody tr th:only-of-type {\n",
              "        vertical-align: middle;\n",
              "    }\n",
              "\n",
              "    .dataframe tbody tr th {\n",
              "        vertical-align: top;\n",
              "    }\n",
              "\n",
              "    .dataframe thead th {\n",
              "        text-align: right;\n",
              "    }\n",
              "</style>\n",
              "<table border=\"1\" class=\"dataframe\">\n",
              "  <thead>\n",
              "    <tr style=\"text-align: right;\">\n",
              "      <th></th>\n",
              "      <th>Unnamed: 0</th>\n",
              "      <th>classe</th>\n",
              "      <th>sexo</th>\n",
              "      <th>idade</th>\n",
              "      <th>sobrevivente</th>\n",
              "      <th>sozinho</th>\n",
              "      <th>0</th>\n",
              "    </tr>\n",
              "  </thead>\n",
              "  <tbody>\n",
              "    <tr>\n",
              "      <th>0</th>\n",
              "      <td>0</td>\n",
              "      <td>3</td>\n",
              "      <td>male</td>\n",
              "      <td>22.0</td>\n",
              "      <td>0</td>\n",
              "      <td>False</td>\n",
              "      <td>classe</td>\n",
              "    </tr>\n",
              "    <tr>\n",
              "      <th>1</th>\n",
              "      <td>1</td>\n",
              "      <td>1</td>\n",
              "      <td>female</td>\n",
              "      <td>38.0</td>\n",
              "      <td>1</td>\n",
              "      <td>False</td>\n",
              "      <td>classe</td>\n",
              "    </tr>\n",
              "    <tr>\n",
              "      <th>2</th>\n",
              "      <td>2</td>\n",
              "      <td>3</td>\n",
              "      <td>female</td>\n",
              "      <td>26.0</td>\n",
              "      <td>1</td>\n",
              "      <td>True</td>\n",
              "      <td>classe</td>\n",
              "    </tr>\n",
              "    <tr>\n",
              "      <th>3</th>\n",
              "      <td>3</td>\n",
              "      <td>1</td>\n",
              "      <td>female</td>\n",
              "      <td>35.0</td>\n",
              "      <td>1</td>\n",
              "      <td>False</td>\n",
              "      <td>classe</td>\n",
              "    </tr>\n",
              "    <tr>\n",
              "      <th>4</th>\n",
              "      <td>4</td>\n",
              "      <td>3</td>\n",
              "      <td>male</td>\n",
              "      <td>35.0</td>\n",
              "      <td>0</td>\n",
              "      <td>True</td>\n",
              "      <td>classe</td>\n",
              "    </tr>\n",
              "  </tbody>\n",
              "</table>\n",
              "</div>"
            ],
            "text/plain": [
              "   Unnamed: 0  classe    sexo  idade  sobrevivente  sozinho       0\n",
              "0           0       3    male   22.0             0    False  classe\n",
              "1           1       1  female   38.0             1    False  classe\n",
              "2           2       3  female   26.0             1     True  classe\n",
              "3           3       1  female   35.0             1    False  classe\n",
              "4           4       3    male   35.0             0     True  classe"
            ]
          },
          "metadata": {
            "tags": []
          },
          "execution_count": 39
        }
      ]
    },
    {
      "cell_type": "code",
      "metadata": {
        "id": "bdjgq3zBDv5A"
      },
      "source": [
        "df_novo.to_excel('titanic_tratado.xlsx')"
      ],
      "execution_count": null,
      "outputs": []
    },
    {
      "cell_type": "code",
      "metadata": {
        "id": "axAntjBvEG2U"
      },
      "source": [
        "# Quantos valores existem no campo sexo?\n",
        "df['sexo'].count()\n"
      ],
      "execution_count": null,
      "outputs": []
    },
    {
      "cell_type": "code",
      "metadata": {
        "id": "cdKx7LNxEUHb"
      },
      "source": [
        "#Quantos registro existem \"por sexo\"?\n",
        "df['sexo'].value_counts()"
      ],
      "execution_count": null,
      "outputs": []
    },
    {
      "cell_type": "code",
      "metadata": {
        "colab": {
          "base_uri": "https://localhost:8080/"
        },
        "id": "RoMLgSLrFEnm",
        "outputId": "b5203379-d4f4-4af9-ac1f-de46d1b2cb91"
      },
      "source": [
        "# Qual idade mais aparece nos dados?\n",
        "df['idade'].mode()"
      ],
      "execution_count": null,
      "outputs": [
        {
          "output_type": "execute_result",
          "data": {
            "text/plain": [
              "0    24.0\n",
              "dtype: float64"
            ]
          },
          "metadata": {
            "tags": []
          },
          "execution_count": 44
        }
      ]
    },
    {
      "cell_type": "code",
      "metadata": {
        "colab": {
          "base_uri": "https://localhost:8080/",
          "height": 419
        },
        "id": "-iZcZQFhFSSv",
        "outputId": "c576e3c3-1330-4ba1-cf4d-8724a9995772"
      },
      "source": [
        "# Vamos ordenar \n",
        "# ascending = false ordena decrescente\n",
        "df.head()\n",
        "df.sort_values(by=['idade'],ascending=True)"
      ],
      "execution_count": null,
      "outputs": [
        {
          "output_type": "execute_result",
          "data": {
            "text/html": [
              "<div>\n",
              "<style scoped>\n",
              "    .dataframe tbody tr th:only-of-type {\n",
              "        vertical-align: middle;\n",
              "    }\n",
              "\n",
              "    .dataframe tbody tr th {\n",
              "        vertical-align: top;\n",
              "    }\n",
              "\n",
              "    .dataframe thead th {\n",
              "        text-align: right;\n",
              "    }\n",
              "</style>\n",
              "<table border=\"1\" class=\"dataframe\">\n",
              "  <thead>\n",
              "    <tr style=\"text-align: right;\">\n",
              "      <th></th>\n",
              "      <th>Unnamed: 0</th>\n",
              "      <th>classe</th>\n",
              "      <th>sexo</th>\n",
              "      <th>idade</th>\n",
              "      <th>sobrevivente</th>\n",
              "      <th>sozinho</th>\n",
              "      <th>0</th>\n",
              "    </tr>\n",
              "  </thead>\n",
              "  <tbody>\n",
              "    <tr>\n",
              "      <th>803</th>\n",
              "      <td>803</td>\n",
              "      <td>3</td>\n",
              "      <td>male</td>\n",
              "      <td>0.42</td>\n",
              "      <td>1</td>\n",
              "      <td>False</td>\n",
              "      <td>classe</td>\n",
              "    </tr>\n",
              "    <tr>\n",
              "      <th>755</th>\n",
              "      <td>755</td>\n",
              "      <td>2</td>\n",
              "      <td>male</td>\n",
              "      <td>0.67</td>\n",
              "      <td>1</td>\n",
              "      <td>False</td>\n",
              "      <td>classe</td>\n",
              "    </tr>\n",
              "    <tr>\n",
              "      <th>644</th>\n",
              "      <td>644</td>\n",
              "      <td>3</td>\n",
              "      <td>female</td>\n",
              "      <td>0.75</td>\n",
              "      <td>1</td>\n",
              "      <td>False</td>\n",
              "      <td>classe</td>\n",
              "    </tr>\n",
              "    <tr>\n",
              "      <th>469</th>\n",
              "      <td>469</td>\n",
              "      <td>3</td>\n",
              "      <td>female</td>\n",
              "      <td>0.75</td>\n",
              "      <td>1</td>\n",
              "      <td>False</td>\n",
              "      <td>classe</td>\n",
              "    </tr>\n",
              "    <tr>\n",
              "      <th>78</th>\n",
              "      <td>78</td>\n",
              "      <td>2</td>\n",
              "      <td>male</td>\n",
              "      <td>0.83</td>\n",
              "      <td>1</td>\n",
              "      <td>False</td>\n",
              "      <td>classe</td>\n",
              "    </tr>\n",
              "    <tr>\n",
              "      <th>...</th>\n",
              "      <td>...</td>\n",
              "      <td>...</td>\n",
              "      <td>...</td>\n",
              "      <td>...</td>\n",
              "      <td>...</td>\n",
              "      <td>...</td>\n",
              "      <td>...</td>\n",
              "    </tr>\n",
              "    <tr>\n",
              "      <th>859</th>\n",
              "      <td>859</td>\n",
              "      <td>3</td>\n",
              "      <td>male</td>\n",
              "      <td>NaN</td>\n",
              "      <td>0</td>\n",
              "      <td>True</td>\n",
              "      <td>classe</td>\n",
              "    </tr>\n",
              "    <tr>\n",
              "      <th>863</th>\n",
              "      <td>863</td>\n",
              "      <td>3</td>\n",
              "      <td>female</td>\n",
              "      <td>NaN</td>\n",
              "      <td>0</td>\n",
              "      <td>False</td>\n",
              "      <td>classe</td>\n",
              "    </tr>\n",
              "    <tr>\n",
              "      <th>868</th>\n",
              "      <td>868</td>\n",
              "      <td>3</td>\n",
              "      <td>male</td>\n",
              "      <td>NaN</td>\n",
              "      <td>0</td>\n",
              "      <td>True</td>\n",
              "      <td>classe</td>\n",
              "    </tr>\n",
              "    <tr>\n",
              "      <th>878</th>\n",
              "      <td>878</td>\n",
              "      <td>3</td>\n",
              "      <td>male</td>\n",
              "      <td>NaN</td>\n",
              "      <td>0</td>\n",
              "      <td>True</td>\n",
              "      <td>classe</td>\n",
              "    </tr>\n",
              "    <tr>\n",
              "      <th>888</th>\n",
              "      <td>888</td>\n",
              "      <td>3</td>\n",
              "      <td>female</td>\n",
              "      <td>NaN</td>\n",
              "      <td>0</td>\n",
              "      <td>False</td>\n",
              "      <td>classe</td>\n",
              "    </tr>\n",
              "  </tbody>\n",
              "</table>\n",
              "<p>891 rows × 7 columns</p>\n",
              "</div>"
            ],
            "text/plain": [
              "     Unnamed: 0  classe    sexo  idade  sobrevivente  sozinho       0\n",
              "803         803       3    male   0.42             1    False  classe\n",
              "755         755       2    male   0.67             1    False  classe\n",
              "644         644       3  female   0.75             1    False  classe\n",
              "469         469       3  female   0.75             1    False  classe\n",
              "78           78       2    male   0.83             1    False  classe\n",
              "..          ...     ...     ...    ...           ...      ...     ...\n",
              "859         859       3    male    NaN             0     True  classe\n",
              "863         863       3  female    NaN             0    False  classe\n",
              "868         868       3    male    NaN             0     True  classe\n",
              "878         878       3    male    NaN             0     True  classe\n",
              "888         888       3  female    NaN             0    False  classe\n",
              "\n",
              "[891 rows x 7 columns]"
            ]
          },
          "metadata": {
            "tags": []
          },
          "execution_count": 52
        }
      ]
    },
    {
      "cell_type": "code",
      "metadata": {
        "id": "nMJAHD_VFeGN"
      },
      "source": [
        "# Quantos bebês estavam a bordo (menores de 2 anos) ?\n",
        "\n",
        "df.query('idade < 2').shape[0]"
      ],
      "execution_count": null,
      "outputs": []
    },
    {
      "cell_type": "code",
      "metadata": {
        "id": "udTqPPXQImcM"
      },
      "source": [
        "df.query('idade>60')"
      ],
      "execution_count": null,
      "outputs": []
    },
    {
      "cell_type": "code",
      "metadata": {
        "id": "C4oxv81TI-b7"
      },
      "source": [
        "# Carregar os \n",
        "df_covid = pd.read_csv(\"https://edsonmelo.com.br/dados_csv/covid_19.csv\")\n",
        "df_mtcars = pd.read_csv(\"https://edsonmelo.com.br/dados_csv/mtcars.csv\")\n",
        "df_alunos = pd.read_csv(\"https://edsonmelo.com.br/dados_csv/notas_alunos.csv\")"
      ],
      "execution_count": null,
      "outputs": []
    },
    {
      "cell_type": "code",
      "metadata": {
        "colab": {
          "base_uri": "https://localhost:8080/"
        },
        "id": "3W8u2gsfJNh8",
        "outputId": "75d4c78b-b44f-46d8-e6d7-27221b83c0a0"
      },
      "source": [
        "# 1 - Quantos registros existem em \"covid_19\"\n",
        "\n",
        "df_covid.shape"
      ],
      "execution_count": null,
      "outputs": [
        {
          "output_type": "execute_result",
          "data": {
            "text/plain": [
              "10984"
            ]
          },
          "metadata": {
            "tags": []
          },
          "execution_count": 66
        }
      ]
    },
    {
      "cell_type": "code",
      "metadata": {
        "colab": {
          "base_uri": "https://localhost:8080/",
          "height": 950
        },
        "id": "K8-UuDJQKVa8",
        "outputId": "b73dd532-3c71-4265-ba2a-e1402b84af06"
      },
      "source": [
        "#2-Qual o nome do 18° pais da lista do \"covid_19\"?\n",
        "df_covid.head(18)\n"
      ],
      "execution_count": null,
      "outputs": [
        {
          "output_type": "execute_result",
          "data": {
            "text/html": [
              "<div>\n",
              "<style scoped>\n",
              "    .dataframe tbody tr th:only-of-type {\n",
              "        vertical-align: middle;\n",
              "    }\n",
              "\n",
              "    .dataframe tbody tr th {\n",
              "        vertical-align: top;\n",
              "    }\n",
              "\n",
              "    .dataframe thead th {\n",
              "        text-align: right;\n",
              "    }\n",
              "</style>\n",
              "<table border=\"1\" class=\"dataframe\">\n",
              "  <thead>\n",
              "    <tr style=\"text-align: right;\">\n",
              "      <th></th>\n",
              "      <th>SNo</th>\n",
              "      <th>ObservationDate</th>\n",
              "      <th>Province/State</th>\n",
              "      <th>Country/Region</th>\n",
              "      <th>Last Update</th>\n",
              "      <th>Confirmed</th>\n",
              "      <th>Deaths</th>\n",
              "      <th>Recovered</th>\n",
              "    </tr>\n",
              "  </thead>\n",
              "  <tbody>\n",
              "    <tr>\n",
              "      <th>0</th>\n",
              "      <td>1</td>\n",
              "      <td>01/22/2020</td>\n",
              "      <td>Anhui</td>\n",
              "      <td>Mainland China</td>\n",
              "      <td>1/22/2020 17:00</td>\n",
              "      <td>1.0</td>\n",
              "      <td>0.0</td>\n",
              "      <td>0.0</td>\n",
              "    </tr>\n",
              "    <tr>\n",
              "      <th>1</th>\n",
              "      <td>2</td>\n",
              "      <td>01/22/2020</td>\n",
              "      <td>Beijing</td>\n",
              "      <td>Mainland China</td>\n",
              "      <td>1/22/2020 17:00</td>\n",
              "      <td>14.0</td>\n",
              "      <td>0.0</td>\n",
              "      <td>0.0</td>\n",
              "    </tr>\n",
              "    <tr>\n",
              "      <th>2</th>\n",
              "      <td>3</td>\n",
              "      <td>01/22/2020</td>\n",
              "      <td>Chongqing</td>\n",
              "      <td>Mainland China</td>\n",
              "      <td>1/22/2020 17:00</td>\n",
              "      <td>6.0</td>\n",
              "      <td>0.0</td>\n",
              "      <td>0.0</td>\n",
              "    </tr>\n",
              "    <tr>\n",
              "      <th>3</th>\n",
              "      <td>4</td>\n",
              "      <td>01/22/2020</td>\n",
              "      <td>Fujian</td>\n",
              "      <td>Mainland China</td>\n",
              "      <td>1/22/2020 17:00</td>\n",
              "      <td>1.0</td>\n",
              "      <td>0.0</td>\n",
              "      <td>0.0</td>\n",
              "    </tr>\n",
              "    <tr>\n",
              "      <th>4</th>\n",
              "      <td>5</td>\n",
              "      <td>01/22/2020</td>\n",
              "      <td>Gansu</td>\n",
              "      <td>Mainland China</td>\n",
              "      <td>1/22/2020 17:00</td>\n",
              "      <td>0.0</td>\n",
              "      <td>0.0</td>\n",
              "      <td>0.0</td>\n",
              "    </tr>\n",
              "    <tr>\n",
              "      <th>5</th>\n",
              "      <td>6</td>\n",
              "      <td>01/22/2020</td>\n",
              "      <td>Guangdong</td>\n",
              "      <td>Mainland China</td>\n",
              "      <td>1/22/2020 17:00</td>\n",
              "      <td>26.0</td>\n",
              "      <td>0.0</td>\n",
              "      <td>0.0</td>\n",
              "    </tr>\n",
              "    <tr>\n",
              "      <th>6</th>\n",
              "      <td>7</td>\n",
              "      <td>01/22/2020</td>\n",
              "      <td>Guangxi</td>\n",
              "      <td>Mainland China</td>\n",
              "      <td>1/22/2020 17:00</td>\n",
              "      <td>2.0</td>\n",
              "      <td>0.0</td>\n",
              "      <td>0.0</td>\n",
              "    </tr>\n",
              "    <tr>\n",
              "      <th>7</th>\n",
              "      <td>8</td>\n",
              "      <td>01/22/2020</td>\n",
              "      <td>Guizhou</td>\n",
              "      <td>Mainland China</td>\n",
              "      <td>1/22/2020 17:00</td>\n",
              "      <td>1.0</td>\n",
              "      <td>0.0</td>\n",
              "      <td>0.0</td>\n",
              "    </tr>\n",
              "    <tr>\n",
              "      <th>8</th>\n",
              "      <td>9</td>\n",
              "      <td>01/22/2020</td>\n",
              "      <td>Hainan</td>\n",
              "      <td>Mainland China</td>\n",
              "      <td>1/22/2020 17:00</td>\n",
              "      <td>4.0</td>\n",
              "      <td>0.0</td>\n",
              "      <td>0.0</td>\n",
              "    </tr>\n",
              "    <tr>\n",
              "      <th>9</th>\n",
              "      <td>10</td>\n",
              "      <td>01/22/2020</td>\n",
              "      <td>Hebei</td>\n",
              "      <td>Mainland China</td>\n",
              "      <td>1/22/2020 17:00</td>\n",
              "      <td>1.0</td>\n",
              "      <td>0.0</td>\n",
              "      <td>0.0</td>\n",
              "    </tr>\n",
              "    <tr>\n",
              "      <th>10</th>\n",
              "      <td>11</td>\n",
              "      <td>01/22/2020</td>\n",
              "      <td>Heilongjiang</td>\n",
              "      <td>Mainland China</td>\n",
              "      <td>1/22/2020 17:00</td>\n",
              "      <td>0.0</td>\n",
              "      <td>0.0</td>\n",
              "      <td>0.0</td>\n",
              "    </tr>\n",
              "    <tr>\n",
              "      <th>11</th>\n",
              "      <td>12</td>\n",
              "      <td>01/22/2020</td>\n",
              "      <td>Henan</td>\n",
              "      <td>Mainland China</td>\n",
              "      <td>1/22/2020 17:00</td>\n",
              "      <td>5.0</td>\n",
              "      <td>0.0</td>\n",
              "      <td>0.0</td>\n",
              "    </tr>\n",
              "    <tr>\n",
              "      <th>12</th>\n",
              "      <td>13</td>\n",
              "      <td>01/22/2020</td>\n",
              "      <td>Hong Kong</td>\n",
              "      <td>Hong Kong</td>\n",
              "      <td>1/22/2020 17:00</td>\n",
              "      <td>0.0</td>\n",
              "      <td>0.0</td>\n",
              "      <td>0.0</td>\n",
              "    </tr>\n",
              "    <tr>\n",
              "      <th>13</th>\n",
              "      <td>14</td>\n",
              "      <td>01/22/2020</td>\n",
              "      <td>Hubei</td>\n",
              "      <td>Mainland China</td>\n",
              "      <td>1/22/2020 17:00</td>\n",
              "      <td>444.0</td>\n",
              "      <td>17.0</td>\n",
              "      <td>28.0</td>\n",
              "    </tr>\n",
              "    <tr>\n",
              "      <th>14</th>\n",
              "      <td>15</td>\n",
              "      <td>01/22/2020</td>\n",
              "      <td>Hunan</td>\n",
              "      <td>Mainland China</td>\n",
              "      <td>1/22/2020 17:00</td>\n",
              "      <td>4.0</td>\n",
              "      <td>0.0</td>\n",
              "      <td>0.0</td>\n",
              "    </tr>\n",
              "    <tr>\n",
              "      <th>15</th>\n",
              "      <td>16</td>\n",
              "      <td>01/22/2020</td>\n",
              "      <td>Inner Mongolia</td>\n",
              "      <td>Mainland China</td>\n",
              "      <td>1/22/2020 17:00</td>\n",
              "      <td>0.0</td>\n",
              "      <td>0.0</td>\n",
              "      <td>0.0</td>\n",
              "    </tr>\n",
              "    <tr>\n",
              "      <th>16</th>\n",
              "      <td>17</td>\n",
              "      <td>01/22/2020</td>\n",
              "      <td>Jiangsu</td>\n",
              "      <td>Mainland China</td>\n",
              "      <td>1/22/2020 17:00</td>\n",
              "      <td>1.0</td>\n",
              "      <td>0.0</td>\n",
              "      <td>0.0</td>\n",
              "    </tr>\n",
              "    <tr>\n",
              "      <th>17</th>\n",
              "      <td>18</td>\n",
              "      <td>01/22/2020</td>\n",
              "      <td>Jiangxi</td>\n",
              "      <td>Mainland China</td>\n",
              "      <td>1/22/2020 17:00</td>\n",
              "      <td>2.0</td>\n",
              "      <td>0.0</td>\n",
              "      <td>0.0</td>\n",
              "    </tr>\n",
              "  </tbody>\n",
              "</table>\n",
              "</div>"
            ],
            "text/plain": [
              "    SNo ObservationDate  Province/State  ... Confirmed Deaths  Recovered\n",
              "0     1      01/22/2020           Anhui  ...       1.0    0.0        0.0\n",
              "1     2      01/22/2020         Beijing  ...      14.0    0.0        0.0\n",
              "2     3      01/22/2020       Chongqing  ...       6.0    0.0        0.0\n",
              "3     4      01/22/2020          Fujian  ...       1.0    0.0        0.0\n",
              "4     5      01/22/2020           Gansu  ...       0.0    0.0        0.0\n",
              "5     6      01/22/2020       Guangdong  ...      26.0    0.0        0.0\n",
              "6     7      01/22/2020         Guangxi  ...       2.0    0.0        0.0\n",
              "7     8      01/22/2020         Guizhou  ...       1.0    0.0        0.0\n",
              "8     9      01/22/2020          Hainan  ...       4.0    0.0        0.0\n",
              "9    10      01/22/2020           Hebei  ...       1.0    0.0        0.0\n",
              "10   11      01/22/2020    Heilongjiang  ...       0.0    0.0        0.0\n",
              "11   12      01/22/2020           Henan  ...       5.0    0.0        0.0\n",
              "12   13      01/22/2020       Hong Kong  ...       0.0    0.0        0.0\n",
              "13   14      01/22/2020           Hubei  ...     444.0   17.0       28.0\n",
              "14   15      01/22/2020           Hunan  ...       4.0    0.0        0.0\n",
              "15   16      01/22/2020  Inner Mongolia  ...       0.0    0.0        0.0\n",
              "16   17      01/22/2020         Jiangsu  ...       1.0    0.0        0.0\n",
              "17   18      01/22/2020         Jiangxi  ...       2.0    0.0        0.0\n",
              "\n",
              "[18 rows x 8 columns]"
            ]
          },
          "metadata": {
            "tags": []
          },
          "execution_count": 78
        }
      ]
    },
    {
      "cell_type": "code",
      "metadata": {
        "colab": {
          "base_uri": "https://localhost:8080/"
        },
        "id": "5T8pHrJEKlMN",
        "outputId": "1e368603-83d8-4633-b270-1fad7abeeb90"
      },
      "source": [
        "# 3 - Quais são as variáveis de \"mtcars\"?\n",
        "df_mtcars.info()"
      ],
      "execution_count": null,
      "outputs": [
        {
          "output_type": "stream",
          "text": [
            "<class 'pandas.core.frame.DataFrame'>\n",
            "RangeIndex: 32 entries, 0 to 31\n",
            "Data columns (total 12 columns):\n",
            " #   Column  Non-Null Count  Dtype  \n",
            "---  ------  --------------  -----  \n",
            " 0   model   32 non-null     object \n",
            " 1   mpg     32 non-null     float64\n",
            " 2   cyl     32 non-null     int64  \n",
            " 3   disp    32 non-null     float64\n",
            " 4   hp      32 non-null     int64  \n",
            " 5   drat    32 non-null     float64\n",
            " 6   wt      32 non-null     float64\n",
            " 7   qsec    32 non-null     float64\n",
            " 8   vs      32 non-null     int64  \n",
            " 9   am      32 non-null     int64  \n",
            " 10  gear    32 non-null     int64  \n",
            " 11  carb    32 non-null     int64  \n",
            "dtypes: float64(5), int64(6), object(1)\n",
            "memory usage: 3.1+ KB\n"
          ],
          "name": "stdout"
        }
      ]
    },
    {
      "cell_type": "code",
      "metadata": {
        "colab": {
          "base_uri": "https://localhost:8080/",
          "height": 317
        },
        "id": "EYnuKTC9K4Dk",
        "outputId": "df983c02-b82e-457d-8aef-4c0e97639f8f"
      },
      "source": [
        "#4 - Qual a média de \"hp\"dos carros \"mtcars\"\n",
        "df_mtcars.describe()"
      ],
      "execution_count": null,
      "outputs": [
        {
          "output_type": "execute_result",
          "data": {
            "text/html": [
              "<div>\n",
              "<style scoped>\n",
              "    .dataframe tbody tr th:only-of-type {\n",
              "        vertical-align: middle;\n",
              "    }\n",
              "\n",
              "    .dataframe tbody tr th {\n",
              "        vertical-align: top;\n",
              "    }\n",
              "\n",
              "    .dataframe thead th {\n",
              "        text-align: right;\n",
              "    }\n",
              "</style>\n",
              "<table border=\"1\" class=\"dataframe\">\n",
              "  <thead>\n",
              "    <tr style=\"text-align: right;\">\n",
              "      <th></th>\n",
              "      <th>mpg</th>\n",
              "      <th>cyl</th>\n",
              "      <th>disp</th>\n",
              "      <th>hp</th>\n",
              "      <th>drat</th>\n",
              "      <th>wt</th>\n",
              "      <th>qsec</th>\n",
              "      <th>vs</th>\n",
              "      <th>am</th>\n",
              "      <th>gear</th>\n",
              "      <th>carb</th>\n",
              "    </tr>\n",
              "  </thead>\n",
              "  <tbody>\n",
              "    <tr>\n",
              "      <th>count</th>\n",
              "      <td>32.000000</td>\n",
              "      <td>32.000000</td>\n",
              "      <td>32.000000</td>\n",
              "      <td>32.000000</td>\n",
              "      <td>32.000000</td>\n",
              "      <td>32.000000</td>\n",
              "      <td>32.000000</td>\n",
              "      <td>32.000000</td>\n",
              "      <td>32.000000</td>\n",
              "      <td>32.000000</td>\n",
              "      <td>32.0000</td>\n",
              "    </tr>\n",
              "    <tr>\n",
              "      <th>mean</th>\n",
              "      <td>20.090625</td>\n",
              "      <td>6.187500</td>\n",
              "      <td>230.721875</td>\n",
              "      <td>146.687500</td>\n",
              "      <td>3.596563</td>\n",
              "      <td>3.217250</td>\n",
              "      <td>17.848750</td>\n",
              "      <td>0.437500</td>\n",
              "      <td>0.406250</td>\n",
              "      <td>3.687500</td>\n",
              "      <td>2.8125</td>\n",
              "    </tr>\n",
              "    <tr>\n",
              "      <th>std</th>\n",
              "      <td>6.026948</td>\n",
              "      <td>1.785922</td>\n",
              "      <td>123.938694</td>\n",
              "      <td>68.562868</td>\n",
              "      <td>0.534679</td>\n",
              "      <td>0.978457</td>\n",
              "      <td>1.786943</td>\n",
              "      <td>0.504016</td>\n",
              "      <td>0.498991</td>\n",
              "      <td>0.737804</td>\n",
              "      <td>1.6152</td>\n",
              "    </tr>\n",
              "    <tr>\n",
              "      <th>min</th>\n",
              "      <td>10.400000</td>\n",
              "      <td>4.000000</td>\n",
              "      <td>71.100000</td>\n",
              "      <td>52.000000</td>\n",
              "      <td>2.760000</td>\n",
              "      <td>1.513000</td>\n",
              "      <td>14.500000</td>\n",
              "      <td>0.000000</td>\n",
              "      <td>0.000000</td>\n",
              "      <td>3.000000</td>\n",
              "      <td>1.0000</td>\n",
              "    </tr>\n",
              "    <tr>\n",
              "      <th>25%</th>\n",
              "      <td>15.425000</td>\n",
              "      <td>4.000000</td>\n",
              "      <td>120.825000</td>\n",
              "      <td>96.500000</td>\n",
              "      <td>3.080000</td>\n",
              "      <td>2.581250</td>\n",
              "      <td>16.892500</td>\n",
              "      <td>0.000000</td>\n",
              "      <td>0.000000</td>\n",
              "      <td>3.000000</td>\n",
              "      <td>2.0000</td>\n",
              "    </tr>\n",
              "    <tr>\n",
              "      <th>50%</th>\n",
              "      <td>19.200000</td>\n",
              "      <td>6.000000</td>\n",
              "      <td>196.300000</td>\n",
              "      <td>123.000000</td>\n",
              "      <td>3.695000</td>\n",
              "      <td>3.325000</td>\n",
              "      <td>17.710000</td>\n",
              "      <td>0.000000</td>\n",
              "      <td>0.000000</td>\n",
              "      <td>4.000000</td>\n",
              "      <td>2.0000</td>\n",
              "    </tr>\n",
              "    <tr>\n",
              "      <th>75%</th>\n",
              "      <td>22.800000</td>\n",
              "      <td>8.000000</td>\n",
              "      <td>326.000000</td>\n",
              "      <td>180.000000</td>\n",
              "      <td>3.920000</td>\n",
              "      <td>3.610000</td>\n",
              "      <td>18.900000</td>\n",
              "      <td>1.000000</td>\n",
              "      <td>1.000000</td>\n",
              "      <td>4.000000</td>\n",
              "      <td>4.0000</td>\n",
              "    </tr>\n",
              "    <tr>\n",
              "      <th>max</th>\n",
              "      <td>33.900000</td>\n",
              "      <td>8.000000</td>\n",
              "      <td>472.000000</td>\n",
              "      <td>335.000000</td>\n",
              "      <td>4.930000</td>\n",
              "      <td>5.424000</td>\n",
              "      <td>22.900000</td>\n",
              "      <td>1.000000</td>\n",
              "      <td>1.000000</td>\n",
              "      <td>5.000000</td>\n",
              "      <td>8.0000</td>\n",
              "    </tr>\n",
              "  </tbody>\n",
              "</table>\n",
              "</div>"
            ],
            "text/plain": [
              "             mpg        cyl        disp  ...         am       gear     carb\n",
              "count  32.000000  32.000000   32.000000  ...  32.000000  32.000000  32.0000\n",
              "mean   20.090625   6.187500  230.721875  ...   0.406250   3.687500   2.8125\n",
              "std     6.026948   1.785922  123.938694  ...   0.498991   0.737804   1.6152\n",
              "min    10.400000   4.000000   71.100000  ...   0.000000   3.000000   1.0000\n",
              "25%    15.425000   4.000000  120.825000  ...   0.000000   3.000000   2.0000\n",
              "50%    19.200000   6.000000  196.300000  ...   0.000000   4.000000   2.0000\n",
              "75%    22.800000   8.000000  326.000000  ...   1.000000   4.000000   4.0000\n",
              "max    33.900000   8.000000  472.000000  ...   1.000000   5.000000   8.0000\n",
              "\n",
              "[8 rows x 11 columns]"
            ]
          },
          "metadata": {
            "tags": []
          },
          "execution_count": 80
        }
      ]
    },
    {
      "cell_type": "code",
      "metadata": {
        "id": "QsvRo5jdLB30"
      },
      "source": [
        " \n",
        "\n"
      ],
      "execution_count": null,
      "outputs": []
    },
    {
      "cell_type": "code",
      "metadata": {
        "id": "92Edp5KILD43"
      },
      "source": [
        "# 6 - Qual é a nota dos últimos cinco alunos de \"notas_alunos\"?\n"
      ],
      "execution_count": null,
      "outputs": []
    },
    {
      "cell_type": "markdown",
      "metadata": {
        "id": "TghiHwSgzVrL"
      },
      "source": [
        "survived: dummy 0 ou 1\n",
        "pclass: Classe do Passageiro\n",
        "1: Primeira Classe\n",
        "2: Segunda Classe\n",
        "3: Terceira Classe\n",
        "sex: Sexo male ou female\n",
        "age: Idade\n",
        "sibsp: Número de Irmãos (Siblings) e Esposas (spouse) a bordo\n",
        "parch: Número de pais/filhos a bordo\n",
        "fare: Valor pago pela passagem em libras\n",
        "embarked: Porto que embarcou\n",
        "C: Cherbourg\n",
        "Q: Queenstown\n",
        "S: Southampton)\n",
        "class: Mesmo que pclass só que em texto\n",
        "adult_male: dummy para age > 16 e sex == 'male'\n",
        "deck: Qual deck a cabine do passageiro se situava\n",
        "alive: Mesmo que survived só que com yes ou no\n",
        "alone: dummy para se viajava sozinho"
      ]
    },
    {
      "cell_type": "markdown",
      "metadata": {
        "id": "hfvPE4u_-W3x"
      },
      "source": [
        ""
      ]
    },
    {
      "cell_type": "code",
      "metadata": {
        "id": "uOwThJpuKvr3"
      },
      "source": [
        "import pandas as pd\n",
        "df = pd.read_csv('nome_do_arquivo.csv')\n",
        "df.head()"
      ],
      "execution_count": null,
      "outputs": []
    },
    {
      "cell_type": "markdown",
      "metadata": {
        "id": "ea7c2lfgtHlU"
      },
      "source": [
        "# training\n"
      ]
    },
    {
      "cell_type": "code",
      "metadata": {
        "id": "Qe-Y29GRtKBM"
      },
      "source": [
        "#Estruturura de dados - lista\n",
        "#vetor  [indice 0] [indice 1] [indice 2] [indice 3]\n",
        "nomes = [\"Leandro\",\" Rita  \", \" Luiz \",\" Pereira \"]\n",
        "#imprimir os dados \n",
        "print(nomes[0])\n",
        "print(nomes[1])\n",
        "print(nomes[0],nomes[2],nomes[3])\n",
        "#nota-se que pode manipular a impressão de cada indice do vetor."
      ],
      "execution_count": null,
      "outputs": []
    },
    {
      "cell_type": "code",
      "metadata": {
        "id": "vuubsbZQ2Lea"
      },
      "source": [
        "nome =[\"leandro\",\"luiz\",\"pereira\"]\n",
        "\n",
        "for aux in nome[2]:\n",
        "  print(type(aux),aux)\n",
        "print(nome[0],nome[1],nome[2])"
      ],
      "execution_count": null,
      "outputs": []
    },
    {
      "cell_type": "code",
      "metadata": {
        "colab": {
          "base_uri": "https://localhost:8080/"
        },
        "id": "qBTpXZtF2U6j",
        "outputId": "05f2cc44-cc65-453a-81c6-165a00f5f632"
      },
      "source": [
        "dicionario = {\"Cpf:\":\"999.999.999-99\",\"nome:\":\"Leandro\"}\n",
        "\n",
        "dicionario [\"cpf:\"] = \"888.888.888.-88\"\n",
        "\n",
        "print(dicionario)\n",
        "\n",
        "for i in dicionario.items():\n",
        "  print(i)"
      ],
      "execution_count": null,
      "outputs": [
        {
          "output_type": "stream",
          "text": [
            "{'Cpf:': '999.999.999-99', 'nome:': 'Leandro', 'cpf:': '888.888.888.-88'}\n",
            "('Cpf:', '999.999.999-99')\n",
            "('nome:', 'Leandro')\n",
            "('cpf:', '888.888.888.-88')\n"
          ],
          "name": "stdout"
        }
      ]
    },
    {
      "cell_type": "code",
      "metadata": {
        "id": "fGelBCs_JyJe"
      },
      "source": [
        "#4 Leia cinco números e mostre a potencia  2 e 3 de cada um deles.\n",
        "n = [1,1,1,1,1]\n",
        "for i in n :\n",
        "  i=int(input())\n",
        "print('\\nOs 5 números digitado elevado a X² são:\\n')\n",
        "elevado = [pow(n1,2),pow(n2,2),pow(n3,2),pow(n4,2),pow(n5,2)]\n",
        "for i in elevado:\n",
        "    print('resultado x²=',i)\n",
        "print('\\nOs 5 números digitado elevado a X³ são:\\n')\n",
        "elevado = [pow(n1,3),pow(n2,3),pow(n3,3),pow(n4,3),pow(n5,3)]\n",
        "for i in elevado:\n",
        "    print('resultado x³ =',i)"
      ],
      "execution_count": null,
      "outputs": []
    },
    {
      "cell_type": "code",
      "metadata": {
        "colab": {
          "base_uri": "https://localhost:8080/"
        },
        "id": "nNcqJt4HAext",
        "outputId": "538861f9-bf4f-460e-a9a6-2ab1352aed7a"
      },
      "source": [
        "  #Exemplo \n",
        "  nome = 'Leandro Luiz Pereira, '\n",
        "  frase = 'está lendo os conceitos de '\n",
        "  linguagem ='Python'\n",
        "\n",
        "  concatenacao = nome + frase +  linguagem \n",
        "  print(concatenacao)\n"
      ],
      "execution_count": null,
      "outputs": [
        {
          "output_type": "stream",
          "text": [
            "Leandro Luiz Pereira, está lendo os conceitos de Python\n"
          ],
          "name": "stdout"
        }
      ]
    },
    {
      "cell_type": "code",
      "metadata": {
        "id": "snSdIpAP2cbc"
      },
      "source": [
        "nomes = ['leandro','luiz','pereira','leandro']\n",
        "#se refere a posiçâo do indice x se esta na lista\n",
        "print(nomes.index('leandro'))\n",
        "# conta quantos os mesmo valores tem na lista \n",
        "print(nomes.count('leandro'))\n",
        "print(nomes.append('leand'))\n",
        "print(nomes.extend('luiz'))\n",
        "print(nomes[0:3])   \n",
        "lista = ['luiz','pereira'] \n",
        "lista =  lista + nomes \n",
        "print(lista)\n",
        "print(lista)\n",
        "for x in lista:\n",
        " if (x == 'leandro'):\n",
        "    lista.remove('leandro')\n",
        " print(x)\n",
        " if (x == 'luiz'):\n",
        "    lista.remove('luiz')\n",
        "print(lista)"
      ],
      "execution_count": null,
      "outputs": []
    },
    {
      "cell_type": "code",
      "metadata": {
        "id": "fPlWh2kMdtZ8"
      },
      "source": [
        "# exmplo para declara uma funçâo \n",
        "# def <nomeda funçâo> (<argumento_1>),(<argumento_2)...):\n",
        "#   <instruções a serem executadas\n",
        "#   return <valor a ser retornado pela função>\n",
        "numerador = 24\n",
        "\n",
        "#função que não retornar a nenhum valor e\n",
        "#e considerado como funçâo  procedimento\n",
        "def acenderLuz():\n",
        "  print('Luz acessa! ')\n",
        "def vezesDois(valor):\n",
        "  calc = valor *2;\n",
        "  return calc\n",
        "print(vezesDois(4));\n",
        "acenderLuz()\n"
      ],
      "execution_count": null,
      "outputs": []
    },
    {
      "cell_type": "code",
      "metadata": {
        "id": "_H5Zx08Sg4Xj"
      },
      "source": [
        "# Funçâo  tabuada ,com finalidade de informar  conjuntos de tabuadas .\n",
        "def conjuntoTabuada(num1,num2):\n",
        "\n",
        " if (num1 < num2):\n",
        "  for h in range(num1,num2+1):\n",
        "    for i in range(0,11):\n",
        "      calcTabuada = h *i \n",
        "      print(' ',h,'X',i,'=',calcTabuada,' ')\n",
        "    print('\\n')\n",
        " else:\n",
        "     print('O numero ',num1,'tem que ser menor que ',num2,' para mostrar o conjunto da tabuada ')\n",
        "print('Digite o número da Tabuada :')\n",
        "n = int(input())\n",
        "print('Mostrar tabuada de ',n,' até a tabuada número :')\n",
        "n2 = int(input())\n",
        "print('\\n')\n",
        "\n",
        "conjuntoTabuada(n,n2)\n"
      ],
      "execution_count": null,
      "outputs": []
    },
    {
      "cell_type": "code",
      "metadata": {
        "id": "AkxxFEDEuy5a"
      },
      "source": [
        "#Exemplo: criando funçâo tabuada , com parâmetro\n",
        "\n",
        "def tabuada(numero):\n",
        "  for i in range(0,11):\n",
        "    tabuada = numero * i \n",
        "    print(' ',numero,' X ',i,' = ',tabuada,'')\n",
        "\n",
        "tabuada(4)\n",
        "    "
      ],
      "execution_count": null,
      "outputs": []
    },
    {
      "cell_type": "code",
      "metadata": {
        "id": "YU-hHWkrxOzQ"
      },
      "source": [
        "#exemplos de Funçôes de procedimento\n",
        "def ascenderLuz(valor):\n",
        "  print('Luz acessa,com sucesso')\n",
        "def apagarLuz(valor):\n",
        "  print('Luz apagada,com sucesso')"
      ],
      "execution_count": null,
      "outputs": []
    },
    {
      "cell_type": "code",
      "metadata": {
        "id": "pC2aCKrW5b-5"
      },
      "source": [
        "def multiplicacao(n1,n2):\n",
        "  resultado = n1*n2\n",
        "  return resultado\n",
        "\n",
        "multiplicacao(3,5)"
      ],
      "execution_count": null,
      "outputs": []
    },
    {
      "cell_type": "code",
      "metadata": {
        "id": "89EFQHYH9pRW"
      },
      "source": [
        "class Escola :\n",
        " # self faz referência ao atributo que está sendo manipulado\n",
        " # _init_ informa que esté método e o construtor\n",
        "  def _init_ (self,nome,matricula,curso):\n",
        "    self.nome = nome\n",
        "    self.matricula = matricula\n",
        "    self.curso = curso \n",
        "    self.media = 0\n",
        "\n",
        "  def getNome(self):\n",
        "    return self.nome\n",
        "\n",
        "  def getMatricula(self):\n",
        "    return self.matricula\n",
        "\n",
        "  def getCurso(self):\n",
        "    return self.curso\n",
        "\n",
        "  def setNome(self,nome):\n",
        "    self.nome = nome \n",
        "  \n",
        "  def setMatricula (self,matricula):\n",
        "    self.matricula = matricula\n",
        "  \n",
        "  def setCurso (self,curso):\n",
        "    self.curso = curso\n",
        "\n",
        "\n",
        "from escola import Escola\n",
        "\n",
        "escola1 = Escola ('Adventista','2323','Inglês')\n",
        "\n",
        "print(escola1.getNome())\n",
        "  "
      ],
      "execution_count": null,
      "outputs": []
    }
  ]
}