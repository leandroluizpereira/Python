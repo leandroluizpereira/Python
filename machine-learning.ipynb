{
  "nbformat": 4,
  "nbformat_minor": 0,
  "metadata": {
    "colab": {
      "name": "Untitled13.ipynb",
      "provenance": []
    },
    "kernelspec": {
      "name": "python3",
      "display_name": "Python 3"
    },
    "language_info": {
      "name": "python"
    }
  },
  "cells": [
    {
      "cell_type": "code",
      "metadata": {
        "id": "NTq_AL8bDqw_"
      },
      "source": [
        ""
      ],
      "execution_count": null,
      "outputs": []
    },
    {
      "cell_type": "markdown",
      "metadata": {
        "id": "QjQ-3XnJDzpJ"
      },
      "source": [
        "# Machine Learning\n",
        "\n",
        "*Machine Learning* é uma área de estudo que fornece aos computadores a habilidade de aprender sem serem explicitamente programados.\n",
        "\n",
        "> Um programa de computador que aprende a partir da experiência E em relação a algum tipo de tarefa T e alguma medida de desempenho P, se o seu desempenho em T, conforme medido por P, melhora com a experiência E.\n",
        "\n",
        "Mitchell, T. M. (1997). Machine Learning. McGraw-Hill, New York."
      ]
    },
    {
      "cell_type": "markdown",
      "metadata": {
        "id": "ZmCh6zb5I6sj"
      },
      "source": [
        ""
      ]
    },
    {
      "cell_type": "markdown",
      "metadata": {
        "id": "dkKF7ejYI9eF"
      },
      "source": [
        ""
      ]
    },
    {
      "cell_type": "markdown",
      "metadata": {
        "id": "avjEpDNQEOV_"
      },
      "source": [
        "### Experiência (E)\n",
        "\n",
        "Em *Machine Learning* um programa de computador aprende sem ser explicitamente programado. Ele aprende a partir de um conjunto de dados que expressa toda *experiência* (E) que desejamos ensiná-lo. Esse conjunto de dados é chamado de **conjunto de treinamento**. \n",
        "\n",
        "* **Aprendizagem Supervisionada**: o conjunto de treinamento é composto por amostras de entradas/saídas.\n",
        "* **Aprendizagem Não-Supervisionada**:  conjunto de treinamento é composto por amostras de entradas apenas."
      ]
    },
    {
      "cell_type": "markdown",
      "metadata": {
        "id": "KSI29yXcGo1A"
      },
      "source": [
        "### Tarefas (T)\n",
        "\n",
        "* Classificação - Supervisionada qualitativa\n",
        "* Regressão - Supervisionada quantitativa\n",
        "* Agrupamento - Não-supervisionada"
      ]
    },
    {
      "cell_type": "markdown",
      "metadata": {
        "id": "XoHDXbqUG1CV"
      },
      "source": [
        ""
      ]
    },
    {
      "cell_type": "code",
      "metadata": {
        "id": "niBEwtXOGrOt"
      },
      "source": [
        ""
      ],
      "execution_count": null,
      "outputs": []
    },
    {
      "cell_type": "markdown",
      "metadata": {
        "id": "q04r7BcHG27f"
      },
      "source": [
        "### Desempenho (P)\n",
        "\n",
        "Para medir o desempenho de um algoritmo de Machine Learning é preciso de uma medida de desempenho para mensurar a qualidade do processo de aprendizagem. Essa medida é conhecida como **função de custo** ou **função de erro**. Essa função é definida de acordo com o tipo de problema (aprendizagem supervisionada ou não-supervisionada). Essa função contém um **conjunto de parâmetros** a serem otimizada pelo um algoritmo de *Machine Learning*.\n",
        "\n",
        "De maneira geral, pode-se dizer que o objetivo do algoritmo de *Machine Learning* é otimizar (aprender) o **conjunto de parâmetros** de tal forma que resultado da função seja o mínimo possível. Isso significa que algoritmo tem uma alta taxa de aprendizagem e uma baixa taxa de erro.\n",
        "\n",
        "* Dividir os dados em\n",
        "* Treino\n",
        "* Teste\n",
        "    * Aqui eu mensuro desempenho (P)"
      ]
    },
    {
      "cell_type": "markdown",
      "metadata": {
        "id": "74tzgf5gIGiQ"
      },
      "source": [
        "<img src=\"https://www.edsonmelo.com.br/dados_csv/images/train-test.png\" alt=\"train-test\" style=\"width: 400px;\"/>"
      ]
    },
    {
      "cell_type": "code",
      "metadata": {
        "id": "J0eR7Z4LG3l9"
      },
      "source": [
        ""
      ],
      "execution_count": null,
      "outputs": []
    },
    {
      "cell_type": "markdown",
      "metadata": {
        "id": "yOD8TSEuIWNA"
      },
      "source": [
        "### Exemplo: jogo de computador\n",
        "- Tarefa $T$ é jogar xadrez. \n",
        "- Medida de desempenho $P$ é uma relação entre partidas ganhas contra oponentes versus perdidas. \n",
        "- Experiência $E$ é prática de partidas concluídas. Note que, estas esperiências são descritas em um conjunto de dados chamado de **conjunto de treinamento**."
      ]
    },
    {
      "cell_type": "code",
      "metadata": {
        "id": "D3xmjrxnIYrN"
      },
      "source": [
        ""
      ],
      "execution_count": null,
      "outputs": []
    },
    {
      "cell_type": "markdown",
      "metadata": {
        "id": "e_htv3RKI-nV"
      },
      "source": [
        "#### Tente responder: Classifique as sentenças a baixo como: Tarefa $T$, Experiências $E$ e Medida de desempenho $P$\n",
        "\n",
        "- Classificar emails como spam ou não spam: \n",
        "- Verificar quais emails o usuário classifica como spam: \n",
        "- O número (ou fração) de emails corretamente classificados como spam ou não spam:"
      ]
    },
    {
      "cell_type": "markdown",
      "metadata": {
        "id": "B-M6FBIsJlt5"
      },
      "source": [
        "## Generalização\n",
        "\n",
        "A habilidade de desempenhar bem em dados não observados anteriormente.\n",
        "\n",
        "Mensurada por erro:\n",
        "* Dados de Treino: Erro de Treino\n",
        "* Dados de Teste: Erro de Teste"
      ]
    },
    {
      "cell_type": "markdown",
      "metadata": {
        "id": "eMHMdrWpJ3D6"
      },
      "source": [
        "### Erro do Algoritmo\n",
        "\n",
        "2 Fatores:\n",
        "\n",
        "1. Habilidade de Reduzir o Erro de Treino\n",
        "2. Habilidade de Reduzir a Lacuna entre o Erro de Treino e o Erro de Teste\n",
        "\n",
        "<img src=\"https://www.edsonmelo.com.br/dados_csv/images/train-vs-test-error.png\" alt=\"train-vs-test-error\" style=\"width: 400px;\"/>"
      ]
    },
    {
      "cell_type": "markdown",
      "metadata": {
        "id": "uyQFYbZ6KYRm"
      },
      "source": [
        "<img src=\"https://www.edsonmelo.com.br/dados_csv/images/trainin4.gif\" alt=\"training\" style=\"width: 500px;\"/>"
      ]
    },
    {
      "cell_type": "markdown",
      "metadata": {
        "id": "29DyiH75K7jo"
      },
      "source": [
        ""
      ]
    },
    {
      "cell_type": "code",
      "metadata": {
        "id": "2e7AmwYrK9yB"
      },
      "source": [
        ""
      ],
      "execution_count": null,
      "outputs": []
    },
    {
      "cell_type": "markdown",
      "metadata": {
        "id": "cTkY5N7fK_cw"
      },
      "source": [
        "### *Overfitting* e *Underfitting*\n",
        "\n",
        "* Centrais em *Machine Learning*\n",
        "* Underfitting\n",
        "    - Modelos **menos** flexíveis que o ideal\n",
        "* Overfitting\n",
        "    - Modelos **mais** flexíveis que o ideal   \n",
        "\n",
        "<img src=\"https://www.edsonmelo.com.br/dados_csv/images/underfitting-overfitting-capacity.png\" alt=\"underfitting-overfitting-capacity\" style=\"width: 500px;\"/>"
      ]
    },
    {
      "cell_type": "code",
      "metadata": {
        "id": "ZYpn2YkMK_4a"
      },
      "source": [
        ""
      ],
      "execution_count": null,
      "outputs": []
    },
    {
      "cell_type": "markdown",
      "metadata": {
        "id": "UGbcOjhbPw06"
      },
      "source": [
        "## Otimização\n",
        "\n",
        "Método mais utilizado é o **Método do Gradiente** (*Gradient Descent*)\n",
        "\n",
        "Inventado em 1847 por Augustin-Louis Cauchy. Usa a derivativa para minimizar uma função-alvo.\n",
        "\n",
        "**Método iterativo**: a cada iteração, tenta ir para o local/global minima\n",
        "\n",
        "<img src=\"https://www.edsonmelo.com.br/dados_csv/images/gradient-descent.png\" alt=\"gradient-descent\" style=\"width: 400px;\"/>\n",
        "<img src=\"https://www.edsonmelo.com.br/dados_csv/images/gradient-descent.gif\" alt=\"gradient-descent-animation\" style=\"width: 500px;\"/>"
      ]
    },
    {
      "cell_type": "markdown",
      "metadata": {
        "id": "V7626feWRj02"
      },
      "source": [
        "<img src=\"https://www.edsonmelo.com.br/dados_csv/images/gradient-descent-1.gif\" alt=\"gradient-descent-animation-2\" style=\"width: 500px;\"/>"
      ]
    },
    {
      "cell_type": "markdown",
      "metadata": {
        "id": "85L3aHYcSJHA"
      },
      "source": [
        "<img src=\"https://www.edsonmelo.com.br/dados_csv/images/gradient-descent-3.gif\" alt=\"gradient-descent-animation-3\" style=\"width: 500px;\"/>"
      ]
    },
    {
      "cell_type": "markdown",
      "metadata": {
        "id": "ORvQEvrnSz9n"
      },
      "source": [
        "\n",
        "<img src=\"https://www.edsonmelo.com.br/dados_csv/images/grad-descent-methods.png\" alt=\"grad-descent-methods\" style=\"width: 500px;\"/>"
      ]
    },
    {
      "cell_type": "code",
      "metadata": {
        "id": "FSOIuiKgPygQ"
      },
      "source": [
        ""
      ],
      "execution_count": null,
      "outputs": []
    },
    {
      "cell_type": "markdown",
      "metadata": {
        "id": "pO0Qe-GbTCzw"
      },
      "source": [
        "# Mãos à Obra\n",
        "\n",
        "## Pergunta: você sabe identificar o que é um gato ou um cachorro?\n",
        "\n",
        "### Definição do problema\n",
        "\n",
        "* o que queremos classificar?\n",
        "* quais características diferenciam o conjunto?\n",
        "* falsos positivos e falsos negativos\n",
        "* eliminação de objetos (se não é um gato, então é um cachorro)"
      ]
    },
    {
      "cell_type": "code",
      "metadata": {
        "id": "Gr1ZVDJ_TFO0"
      },
      "source": [
        "1 se é cachorro\n",
        "\n",
        "2 altura grande,pelo,cauda\n",
        " \n",
        "3 gato        (0,1,1)\n",
        "  cachorro    (1,1,1)\n",
        "\n",
        "4 cachorro\n",
        "\n"
      ],
      "execution_count": null,
      "outputs": []
    }
  ]
}